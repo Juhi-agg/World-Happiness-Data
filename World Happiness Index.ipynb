{
 "cells": [
  {
   "cell_type": "markdown",
   "metadata": {},
   "source": [
    "<h1>World Happiness</h1><br>\n",
    "Amidst the negativity in present decade and a lot of research being done on the Covid data, I thought of starting which something with Happiness, World Happiness. After searching on various sites, I got a simple dataset on kaggle that gives country-wise Happiness Score and its composite factors. Getting acquainted with the data, I define the scope of the problem.\n",
    "\n",
    "1. To identify Top 3 factors contributing to happiness rank in a particular year.\n",
    "2. Change in Top 3 factors contributing to happiness rank in a particular region with respect to time."
   ]
  },
  {
   "cell_type": "code",
   "execution_count": null,
   "metadata": {},
   "outputs": [],
   "source": [
    "import pandas as pd\n",
    "import numpy as np\n",
    "import matplotlib.pyplot as plt\n",
    "import seaborn as sns\n",
    "from sklearn.model_selection import train_test_split\n",
    "from sklearn.feature_selection import VarianceThreshold\n",
    "from sklearn.feature_selection import SelectKBest\n",
    "from sklearn.feature_selection import chi2\n",
    "from sklearn.feature_selection import f_classif\n"
   ]
  },
  {
   "cell_type": "code",
   "execution_count": null,
   "metadata": {},
   "outputs": [],
   "source": [
    "#reading the files\n",
    "df19 = pd.read_csv('Happiness Index/2019.csv')\n"
   ]
  },
  {
   "cell_type": "code",
   "execution_count": null,
   "metadata": {},
   "outputs": [],
   "source": [
    "df19['Dystopia Residual'] = df19['Score'] - df19['GDP per capita'] - df19['Social support'] - df19['Healthy life expectancy'] - df19['Freedom to make life choices'] - df19['Generosity'] - df19['Perceptions of corruption']\n",
    "df19.rename(columns={'Country or region': 'Country'}, inplace = True)"
   ]
  },
  {
   "cell_type": "markdown",
   "metadata": {},
   "source": [
    "<h2>Feature Selection:</h2><br>\n",
    "<b>Step 1:</b> Independent feature should have high correlation with the target variable. Plotting the correaltion matrix.<br>"
   ]
  },
  {
   "cell_type": "code",
   "execution_count": null,
   "metadata": {},
   "outputs": [],
   "source": [
    "#1.1 Correaltion between the given scoring factors \n",
    "new = df19[['Overall rank','GDP per capita', 'Social support',\n",
    "       'Healthy life expectancy', 'Freedom to make life choices', 'Generosity',\n",
    "       'Perceptions of corruption', 'Dystopia Residual']]\n",
    "correlation_mat = new.corr()\n",
    "sns.heatmap(correlation_mat, annot = True)\n",
    "plt.show()"
   ]
  },
  {
   "cell_type": "code",
   "execution_count": null,
   "metadata": {},
   "outputs": [],
   "source": [
    "#1.2 removing corelated features\n",
    "correlated_features = set()\n",
    "correlation_matrix = df19.drop('Score', axis=1).corr()\n",
    "\n",
    "for i in range(len(correlation_matrix.columns)):\n",
    "    for j in range(i):\n",
    "        if abs(correlation_matrix.iloc[i, j]) > 0.80:\n",
    "            colname = correlation_matrix.columns[i]\n",
    "            correlated_features.add(colname)\n",
    "correlated_features"
   ]
  },
  {
   "cell_type": "markdown",
   "metadata": {},
   "source": [
    "<b>1.</b> Generosity has low correlation with the Score. So, dropping Generosity.<br>\n",
    "<b>2.</b> GDP per capita has higher corelatiom with Health Life expectancy. So, moving ahead with one of the two will make more sense. So, dropping Health Life Expectancy. <br>"
   ]
  },
  {
   "cell_type": "code",
   "execution_count": null,
   "metadata": {},
   "outputs": [],
   "source": [
    "df19.columns"
   ]
  },
  {
   "cell_type": "code",
   "execution_count": null,
   "metadata": {},
   "outputs": [],
   "source": [
    "X = df19[['GDP per capita', 'Social support', 'Freedom to make life choices',\n",
    "       'Perceptions of corruption', 'Dystopia Residual']]\n",
    "y = df19['Overall rank']"
   ]
  },
  {
   "cell_type": "markdown",
   "metadata": {},
   "source": [
    "<b> Step 2:</b> Removing features having very less variance "
   ]
  },
  {
   "cell_type": "code",
   "execution_count": null,
   "metadata": {},
   "outputs": [],
   "source": [
    "#Removing Constant Features using Variance Threshold\n",
    "constant_filter = VarianceThreshold(threshold=0)\n",
    "constant_filter.fit(X)\n",
    "len(X.columns[constant_filter.get_support()])\n",
    "constant_columns = [column for column in X.columns\n",
    "                    if column not in X.columns[constant_filter.get_support()]]\n",
    "\n",
    "print(len(constant_columns))"
   ]
  },
  {
   "cell_type": "markdown",
   "metadata": {},
   "source": [
    "Using the mutual information between two variables. It measures how much a given feature can explain another (target), or more technically, how much information about the target will variable will be obtained by having observed a feature."
   ]
  },
  {
   "cell_type": "code",
   "execution_count": null,
   "metadata": {},
   "outputs": [],
   "source": [
    "from sklearn.feature_selection import mutual_info_regression, mutual_info_classif\n",
    "\n",
    "mi = mutual_info_regression(X,y)\n",
    "mi = pd.Series(mi)\n",
    "mi.index = X.columns\n",
    "mi.sort_values(ascending=False)\n",
    "mi.sort_values(ascending=False).plot.bar(figsize=(10, 4));"
   ]
  },
  {
   "cell_type": "markdown",
   "metadata": {},
   "source": [
    "Clearly, \n",
    "Social Support, GDP per capita and Freedom to make life choices are the major factors contributing to Happiness Rank in year 2019."
   ]
  },
  {
   "cell_type": "code",
   "execution_count": null,
   "metadata": {},
   "outputs": [],
   "source": []
  }
 ],
 "metadata": {
  "kernelspec": {
   "display_name": "Python 3",
   "language": "python",
   "name": "python3"
  },
  "language_info": {
   "codemirror_mode": {
    "name": "ipython",
    "version": 3
   },
   "file_extension": ".py",
   "mimetype": "text/x-python",
   "name": "python",
   "nbconvert_exporter": "python",
   "pygments_lexer": "ipython3",
   "version": "3.8.5"
  }
 },
 "nbformat": 4,
 "nbformat_minor": 4
}
