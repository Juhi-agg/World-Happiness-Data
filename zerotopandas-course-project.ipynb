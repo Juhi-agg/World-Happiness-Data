{
 "cells": [
  {
   "cell_type": "markdown",
   "metadata": {},
   "source": [
    "# Contributions to Happiness \n",
    "\n",
    "The dataset contains country-wise happiness scores, rankings and extent to which various factors contributing to a country's happiness. \n",
    "The dataset is dataser is taken from kaggle: https://www.kaggle.com/unsdsn/world-happiness \n",
    "There are 6 factors listed:\n",
    "1. Economy (GDP per Capita)\n",
    "2. Family\n",
    "3. Health (Life Expectancy)\n",
    "4. Freedom\n",
    "5. Trust (Government Corruption)\n",
    "6. Generosity \n",
    "<br>other factors are put into the 'Dystopia Residual'.\n",
    "The addition of above 7 qualities makes the happiness score of region-wise coutries given. The rank is predicted on the basis of the happiness score.\n"
   ]
  },
  {
   "cell_type": "code",
   "execution_count": 2,
   "metadata": {},
   "outputs": [],
   "source": [
    "!pip install jovian opendatasets --upgrade --quiet"
   ]
  },
  {
   "cell_type": "markdown",
   "metadata": {},
   "source": [
    "Let's begin by downloading the data, and listing the files within the dataset."
   ]
  },
  {
   "cell_type": "code",
   "execution_count": 3,
   "metadata": {},
   "outputs": [],
   "source": [
    "dataset_url = 'https://www.kaggle.com/unsdsn/world-happiness' "
   ]
  },
  {
   "cell_type": "code",
   "execution_count": 4,
   "metadata": {},
   "outputs": [
    {
     "name": "stdout",
     "output_type": "stream",
     "text": [
      "Please provide your Kaggle credentials to download this dataset. Learn more: http://bit.ly/kaggle-creds\n",
      "Your Kaggle username: juhiaggarwal\n",
      "Your Kaggle Key: ········\n"
     ]
    },
    {
     "name": "stderr",
     "output_type": "stream",
     "text": [
      "100%|██████████| 36.8k/36.8k [00:00<00:00, 1.37MB/s]"
     ]
    },
    {
     "name": "stdout",
     "output_type": "stream",
     "text": [
      "Downloading world-happiness.zip to ./world-happiness\n",
      "\n"
     ]
    },
    {
     "name": "stderr",
     "output_type": "stream",
     "text": [
      "\n"
     ]
    }
   ],
   "source": [
    "import opendatasets as od\n",
    "od.download(dataset_url)"
   ]
  },
  {
   "cell_type": "markdown",
   "metadata": {},
   "source": [
    "The dataset has been downloaded and extracted."
   ]
  },
  {
   "cell_type": "code",
   "execution_count": 5,
   "metadata": {},
   "outputs": [],
   "source": [
    "data_dir = './world-happiness'"
   ]
  },
  {
   "cell_type": "code",
   "execution_count": 6,
   "metadata": {},
   "outputs": [
    {
     "data": {
      "text/plain": [
       "['2018.csv', '2016.csv', '2017.csv', '2019.csv', '2015.csv']"
      ]
     },
     "execution_count": 6,
     "metadata": {},
     "output_type": "execute_result"
    }
   ],
   "source": [
    "import os\n",
    "os.listdir(data_dir)"
   ]
  },
  {
   "cell_type": "markdown",
   "metadata": {},
   "source": [
    "Let us save and upload our work to Jovian before continuing."
   ]
  },
  {
   "cell_type": "code",
   "execution_count": 7,
   "metadata": {},
   "outputs": [],
   "source": [
    "project_name = \"contributing-to-happiness\" "
   ]
  },
  {
   "cell_type": "code",
   "execution_count": 8,
   "metadata": {},
   "outputs": [],
   "source": [
    "!pip install jovian --upgrade -q"
   ]
  },
  {
   "cell_type": "code",
   "execution_count": 9,
   "metadata": {},
   "outputs": [],
   "source": [
    "import jovian"
   ]
  },
  {
   "cell_type": "code",
   "execution_count": 10,
   "metadata": {},
   "outputs": [
    {
     "data": {
      "application/javascript": [
       "window.require && require([\"base/js/namespace\"],function(Jupyter){Jupyter.notebook.save_checkpoint()})"
      ],
      "text/plain": [
       "<IPython.core.display.Javascript object>"
      ]
     },
     "metadata": {},
     "output_type": "display_data"
    },
    {
     "name": "stdout",
     "output_type": "stream",
     "text": [
      "[jovian] Attempting to save notebook..\u001b[0m\n",
      "[jovian] Updating notebook \"jaggarwal1/contributing-to-happiness\" on https://jovian.ai\u001b[0m\n",
      "[jovian] Uploading notebook..\u001b[0m\n",
      "[jovian] Uploading additional files...\u001b[0m\n",
      "[jovian] Committed successfully! https://jovian.ai/jaggarwal1/contributing-to-happiness\u001b[0m\n"
     ]
    },
    {
     "data": {
      "text/plain": [
       "'https://jovian.ai/jaggarwal1/contributing-to-happiness'"
      ]
     },
     "execution_count": 10,
     "metadata": {},
     "output_type": "execute_result"
    }
   ],
   "source": [
    "jovian.commit(project=project_name)"
   ]
  },
  {
   "cell_type": "markdown",
   "metadata": {},
   "source": [
    "\n",
    "\n",
    "## Data Preparation and Cleaning\n",
    "\n",
    "\n",
    "The main processing is done using 2015 data.\n",
    "\n",
    "\n"
   ]
  },
  {
   "cell_type": "code",
   "execution_count": 144,
   "metadata": {},
   "outputs": [
    {
     "data": {
      "text/plain": [
       "Index(['Country', 'Region', 'Happiness Rank', 'Happiness Score',\n",
       "       'Standard Error', 'Economy (GDP per Capita)', 'Family',\n",
       "       'Health (Life Expectancy)', 'Freedom', 'Trust (Government Corruption)',\n",
       "       'Generosity', 'Dystopia Residual'],\n",
       "      dtype='object')"
      ]
     },
     "execution_count": 144,
     "metadata": {},
     "output_type": "execute_result"
    }
   ],
   "source": [
    "import pandas as pd\n",
    "import numpy as np\n",
    "data1_df = pd.read_csv('world-happiness/2015.csv')\n",
    "data1_df.columns"
   ]
  },
  {
   "cell_type": "code",
   "execution_count": 12,
   "metadata": {},
   "outputs": [],
   "source": [
    "data1_df\n",
    "#calucating contribution of individual factcors in the Happiness score\n",
    "data1_df['GDP-contri'] = data1_df[\"Economy (GDP per Capita)\"]/data1_df[\"Happiness Score\"]\n",
    "data1_df['Fam-contri'] = data1_df[\"Family\"]/data1_df[\"Happiness Score\"]\n",
    "data1_df['Health-contri'] = data1_df[\"Health (Life Expectancy)\"]/data1_df[\"Happiness Score\"]\n",
    "data1_df['Freedom-contri'] = data1_df[\"Freedom\"]/data1_df[\"Happiness Score\"]\n",
    "data1_df['Govt-contri'] = data1_df[\"Trust (Government Corruption)\"]/data1_df[\"Happiness Score\"]\n",
    "data1_df['Gen-contri'] = data1_df[\"Generosity\"]/data1_df[\"Happiness Score\"]\n",
    "data1_df['Others'] = data1_df[\"Dystopia Residual\"]/data1_df[\"Happiness Score\"]"
   ]
  },
  {
   "cell_type": "code",
   "execution_count": 13,
   "metadata": {},
   "outputs": [
    {
     "data": {
      "text/plain": [
       "Index(['Country', 'Region', 'Happiness Rank', 'Happiness Score',\n",
       "       'Standard Error', 'Economy (GDP per Capita)', 'Family',\n",
       "       'Health (Life Expectancy)', 'Freedom', 'Trust (Government Corruption)',\n",
       "       'Generosity', 'Dystopia Residual', 'GDP-contri', 'Fam-contri',\n",
       "       'Health-contri', 'Freedom-contri', 'Govt-contri', 'Gen-contri',\n",
       "       'Others'],\n",
       "      dtype='object')"
      ]
     },
     "execution_count": 13,
     "metadata": {},
     "output_type": "execute_result"
    }
   ],
   "source": [
    "data1_df.columns"
   ]
  },
  {
   "cell_type": "code",
   "execution_count": 14,
   "metadata": {},
   "outputs": [],
   "source": [
    "workinga = data1_df[['Country','Region','Happiness Rank','Generosity', 'Dystopia Residual', 'GDP-contri', 'Fam-contri',\n",
    "       'Health-contri', 'Freedom-contri', 'Govt-contri', 'Gen-contri', 'Others' ]]\n",
    "workinga.columns = workinga.columns.str.replace(\" \", \"-\")"
   ]
  },
  {
   "cell_type": "code",
   "execution_count": 15,
   "metadata": {},
   "outputs": [
    {
     "data": {
      "text/html": [
       "<div>\n",
       "<style scoped>\n",
       "    .dataframe tbody tr th:only-of-type {\n",
       "        vertical-align: middle;\n",
       "    }\n",
       "\n",
       "    .dataframe tbody tr th {\n",
       "        vertical-align: top;\n",
       "    }\n",
       "\n",
       "    .dataframe thead th {\n",
       "        text-align: right;\n",
       "    }\n",
       "</style>\n",
       "<table border=\"1\" class=\"dataframe\">\n",
       "  <thead>\n",
       "    <tr style=\"text-align: right;\">\n",
       "      <th></th>\n",
       "      <th>Country</th>\n",
       "      <th>Region</th>\n",
       "      <th>Happiness-Rank</th>\n",
       "      <th>Generosity</th>\n",
       "      <th>Dystopia-Residual</th>\n",
       "      <th>GDP-contri</th>\n",
       "      <th>Fam-contri</th>\n",
       "      <th>Health-contri</th>\n",
       "      <th>Freedom-contri</th>\n",
       "      <th>Govt-contri</th>\n",
       "      <th>Gen-contri</th>\n",
       "      <th>Others</th>\n",
       "    </tr>\n",
       "  </thead>\n",
       "  <tbody>\n",
       "    <tr>\n",
       "      <th>0</th>\n",
       "      <td>Switzerland</td>\n",
       "      <td>Western Europe</td>\n",
       "      <td>1</td>\n",
       "      <td>0.29678</td>\n",
       "      <td>2.51738</td>\n",
       "      <td>0.184066</td>\n",
       "      <td>0.177871</td>\n",
       "      <td>0.124085</td>\n",
       "      <td>0.087725</td>\n",
       "      <td>0.055329</td>\n",
       "      <td>0.039117</td>\n",
       "      <td>0.331802</td>\n",
       "    </tr>\n",
       "    <tr>\n",
       "      <th>1</th>\n",
       "      <td>Iceland</td>\n",
       "      <td>Western Europe</td>\n",
       "      <td>2</td>\n",
       "      <td>0.43630</td>\n",
       "      <td>2.70201</td>\n",
       "      <td>0.172242</td>\n",
       "      <td>0.185456</td>\n",
       "      <td>0.125359</td>\n",
       "      <td>0.083160</td>\n",
       "      <td>0.018708</td>\n",
       "      <td>0.057704</td>\n",
       "      <td>0.357361</td>\n",
       "    </tr>\n",
       "    <tr>\n",
       "      <th>2</th>\n",
       "      <td>Denmark</td>\n",
       "      <td>Western Europe</td>\n",
       "      <td>3</td>\n",
       "      <td>0.34139</td>\n",
       "      <td>2.49204</td>\n",
       "      <td>0.176097</td>\n",
       "      <td>0.180760</td>\n",
       "      <td>0.116200</td>\n",
       "      <td>0.086273</td>\n",
       "      <td>0.064245</td>\n",
       "      <td>0.045355</td>\n",
       "      <td>0.331080</td>\n",
       "    </tr>\n",
       "    <tr>\n",
       "      <th>3</th>\n",
       "      <td>Norway</td>\n",
       "      <td>Western Europe</td>\n",
       "      <td>4</td>\n",
       "      <td>0.34699</td>\n",
       "      <td>2.46531</td>\n",
       "      <td>0.193964</td>\n",
       "      <td>0.176941</td>\n",
       "      <td>0.117683</td>\n",
       "      <td>0.089036</td>\n",
       "      <td>0.048528</td>\n",
       "      <td>0.046130</td>\n",
       "      <td>0.327747</td>\n",
       "    </tr>\n",
       "    <tr>\n",
       "      <th>4</th>\n",
       "      <td>Canada</td>\n",
       "      <td>North America</td>\n",
       "      <td>5</td>\n",
       "      <td>0.45811</td>\n",
       "      <td>2.45176</td>\n",
       "      <td>0.178577</td>\n",
       "      <td>0.178081</td>\n",
       "      <td>0.121938</td>\n",
       "      <td>0.085226</td>\n",
       "      <td>0.044375</td>\n",
       "      <td>0.061682</td>\n",
       "      <td>0.330114</td>\n",
       "    </tr>\n",
       "    <tr>\n",
       "      <th>...</th>\n",
       "      <td>...</td>\n",
       "      <td>...</td>\n",
       "      <td>...</td>\n",
       "      <td>...</td>\n",
       "      <td>...</td>\n",
       "      <td>...</td>\n",
       "      <td>...</td>\n",
       "      <td>...</td>\n",
       "      <td>...</td>\n",
       "      <td>...</td>\n",
       "      <td>...</td>\n",
       "      <td>...</td>\n",
       "    </tr>\n",
       "    <tr>\n",
       "      <th>153</th>\n",
       "      <td>Rwanda</td>\n",
       "      <td>Sub-Saharan Africa</td>\n",
       "      <td>154</td>\n",
       "      <td>0.22628</td>\n",
       "      <td>0.67042</td>\n",
       "      <td>0.064092</td>\n",
       "      <td>0.223290</td>\n",
       "      <td>0.123706</td>\n",
       "      <td>0.170854</td>\n",
       "      <td>0.159281</td>\n",
       "      <td>0.065304</td>\n",
       "      <td>0.193483</td>\n",
       "    </tr>\n",
       "    <tr>\n",
       "      <th>154</th>\n",
       "      <td>Benin</td>\n",
       "      <td>Sub-Saharan Africa</td>\n",
       "      <td>155</td>\n",
       "      <td>0.18260</td>\n",
       "      <td>1.63328</td>\n",
       "      <td>0.085823</td>\n",
       "      <td>0.105946</td>\n",
       "      <td>0.095539</td>\n",
       "      <td>0.145060</td>\n",
       "      <td>0.023982</td>\n",
       "      <td>0.054671</td>\n",
       "      <td>0.489006</td>\n",
       "    </tr>\n",
       "    <tr>\n",
       "      <th>155</th>\n",
       "      <td>Syria</td>\n",
       "      <td>Middle East and Northern Africa</td>\n",
       "      <td>156</td>\n",
       "      <td>0.47179</td>\n",
       "      <td>0.32858</td>\n",
       "      <td>0.220625</td>\n",
       "      <td>0.157981</td>\n",
       "      <td>0.240163</td>\n",
       "      <td>0.052176</td>\n",
       "      <td>0.062894</td>\n",
       "      <td>0.156949</td>\n",
       "      <td>0.109308</td>\n",
       "    </tr>\n",
       "    <tr>\n",
       "      <th>156</th>\n",
       "      <td>Burundi</td>\n",
       "      <td>Sub-Saharan Africa</td>\n",
       "      <td>157</td>\n",
       "      <td>0.19727</td>\n",
       "      <td>1.83302</td>\n",
       "      <td>0.005267</td>\n",
       "      <td>0.143157</td>\n",
       "      <td>0.077095</td>\n",
       "      <td>0.040792</td>\n",
       "      <td>0.034637</td>\n",
       "      <td>0.067907</td>\n",
       "      <td>0.630988</td>\n",
       "    </tr>\n",
       "    <tr>\n",
       "      <th>157</th>\n",
       "      <td>Togo</td>\n",
       "      <td>Sub-Saharan Africa</td>\n",
       "      <td>158</td>\n",
       "      <td>0.16681</td>\n",
       "      <td>1.56726</td>\n",
       "      <td>0.073505</td>\n",
       "      <td>0.049296</td>\n",
       "      <td>0.100187</td>\n",
       "      <td>0.128401</td>\n",
       "      <td>0.037799</td>\n",
       "      <td>0.058757</td>\n",
       "      <td>0.552046</td>\n",
       "    </tr>\n",
       "  </tbody>\n",
       "</table>\n",
       "<p>158 rows × 12 columns</p>\n",
       "</div>"
      ],
      "text/plain": [
       "         Country                           Region  Happiness-Rank  Generosity  \\\n",
       "0    Switzerland                   Western Europe               1     0.29678   \n",
       "1        Iceland                   Western Europe               2     0.43630   \n",
       "2        Denmark                   Western Europe               3     0.34139   \n",
       "3         Norway                   Western Europe               4     0.34699   \n",
       "4         Canada                    North America               5     0.45811   \n",
       "..           ...                              ...             ...         ...   \n",
       "153       Rwanda               Sub-Saharan Africa             154     0.22628   \n",
       "154        Benin               Sub-Saharan Africa             155     0.18260   \n",
       "155        Syria  Middle East and Northern Africa             156     0.47179   \n",
       "156      Burundi               Sub-Saharan Africa             157     0.19727   \n",
       "157         Togo               Sub-Saharan Africa             158     0.16681   \n",
       "\n",
       "     Dystopia-Residual  GDP-contri  Fam-contri  Health-contri  Freedom-contri  \\\n",
       "0              2.51738    0.184066    0.177871       0.124085        0.087725   \n",
       "1              2.70201    0.172242    0.185456       0.125359        0.083160   \n",
       "2              2.49204    0.176097    0.180760       0.116200        0.086273   \n",
       "3              2.46531    0.193964    0.176941       0.117683        0.089036   \n",
       "4              2.45176    0.178577    0.178081       0.121938        0.085226   \n",
       "..                 ...         ...         ...            ...             ...   \n",
       "153            0.67042    0.064092    0.223290       0.123706        0.170854   \n",
       "154            1.63328    0.085823    0.105946       0.095539        0.145060   \n",
       "155            0.32858    0.220625    0.157981       0.240163        0.052176   \n",
       "156            1.83302    0.005267    0.143157       0.077095        0.040792   \n",
       "157            1.56726    0.073505    0.049296       0.100187        0.128401   \n",
       "\n",
       "     Govt-contri  Gen-contri    Others  \n",
       "0       0.055329    0.039117  0.331802  \n",
       "1       0.018708    0.057704  0.357361  \n",
       "2       0.064245    0.045355  0.331080  \n",
       "3       0.048528    0.046130  0.327747  \n",
       "4       0.044375    0.061682  0.330114  \n",
       "..           ...         ...       ...  \n",
       "153     0.159281    0.065304  0.193483  \n",
       "154     0.023982    0.054671  0.489006  \n",
       "155     0.062894    0.156949  0.109308  \n",
       "156     0.034637    0.067907  0.630988  \n",
       "157     0.037799    0.058757  0.552046  \n",
       "\n",
       "[158 rows x 12 columns]"
      ]
     },
     "execution_count": 15,
     "metadata": {},
     "output_type": "execute_result"
    }
   ],
   "source": [
    "workinga"
   ]
  },
  {
   "cell_type": "code",
   "execution_count": 16,
   "metadata": {},
   "outputs": [],
   "source": [
    "import jovian"
   ]
  },
  {
   "cell_type": "code",
   "execution_count": 17,
   "metadata": {},
   "outputs": [
    {
     "data": {
      "application/javascript": [
       "window.require && require([\"base/js/namespace\"],function(Jupyter){Jupyter.notebook.save_checkpoint()})"
      ],
      "text/plain": [
       "<IPython.core.display.Javascript object>"
      ]
     },
     "metadata": {},
     "output_type": "display_data"
    },
    {
     "name": "stdout",
     "output_type": "stream",
     "text": [
      "[jovian] Attempting to save notebook..\u001b[0m\n",
      "[jovian] Updating notebook \"jaggarwal1/contributing-to-happiness\" on https://jovian.ai\u001b[0m\n",
      "[jovian] Uploading notebook..\u001b[0m\n",
      "[jovian] Uploading additional files...\u001b[0m\n",
      "[jovian] Committed successfully! https://jovian.ai/jaggarwal1/contributing-to-happiness\u001b[0m\n"
     ]
    },
    {
     "data": {
      "text/plain": [
       "'https://jovian.ai/jaggarwal1/contributing-to-happiness'"
      ]
     },
     "execution_count": 17,
     "metadata": {},
     "output_type": "execute_result"
    }
   ],
   "source": [
    "jovian.commit()"
   ]
  },
  {
   "cell_type": "markdown",
   "metadata": {},
   "source": [
    "## Exploratory Analysis and Visualization\n",
    "\n",
    "Let us try to figure out the how the 6 listed factors contribute in the ranking and what is the trend followed.\n",
    "\n"
   ]
  },
  {
   "cell_type": "markdown",
   "metadata": {},
   "source": [
    "Let's begin by importing`matplotlib.pyplot` and `seaborn`."
   ]
  },
  {
   "cell_type": "code",
   "execution_count": 18,
   "metadata": {},
   "outputs": [],
   "source": [
    "import seaborn as sns\n",
    "import matplotlib\n",
    "import matplotlib.pyplot as plt\n",
    "%matplotlib inline\n",
    "\n",
    "sns.set_style('darkgrid')\n",
    "matplotlib.rcParams['font.size'] = 14\n",
    "matplotlib.rcParams['figure.figsize'] = (9, 5)\n",
    "matplotlib.rcParams['figure.facecolor'] = '#00000000'"
   ]
  },
  {
   "cell_type": "code",
   "execution_count": 19,
   "metadata": {},
   "outputs": [
    {
     "data": {
      "text/plain": [
       "(158, 12)"
      ]
     },
     "execution_count": 19,
     "metadata": {},
     "output_type": "execute_result"
    }
   ],
   "source": [
    "workinga.shape"
   ]
  },
  {
   "cell_type": "code",
   "execution_count": 134,
   "metadata": {},
   "outputs": [
    {
     "data": {
      "image/png": "[encoded data removed]",
      "text/plain": [
       "<Figure size 648x360 with 1 Axes>"
      ]
     },
     "metadata": {
      "needs_background": "light"
     },
     "output_type": "display_data"
    }
   ],
   "source": [
    "plt.plot(workinga['Happiness-Rank'], workinga['Fam-contri'])\n",
    "plt.plot(workinga['Happiness-Rank'], workinga['GDP-contri'])\n",
    "plt.xlabel('Happiness Rank')\n",
    "plt.ylabel('Contribution of Family');"
   ]
  },
  {
   "cell_type": "markdown",
   "metadata": {},
   "source": [
    "The first graph that we try plotting is line graph, which does not seem to give a nice corelation between contribution of the family to the Happiness ranking. The contribution factor is rather more abruot for countries ranking greater than 100.\n",
    "\n"
   ]
  },
  {
   "cell_type": "markdown",
   "metadata": {},
   "source": [
    "**TODO** - Explore one or more columns by plotting a graph below, and add some explanation about it"
   ]
  },
  {
   "cell_type": "code",
   "execution_count": 21,
   "metadata": {},
   "outputs": [
    {
     "data": {
      "text/plain": [
       "Index(['Country', 'Region', 'Happiness-Rank', 'Generosity',\n",
       "       'Dystopia-Residual', 'GDP-contri', 'Fam-contri', 'Health-contri',\n",
       "       'Freedom-contri', 'Govt-contri', 'Gen-contri', 'Others'],\n",
       "      dtype='object')"
      ]
     },
     "execution_count": 21,
     "metadata": {},
     "output_type": "execute_result"
    }
   ],
   "source": [
    "workinga.columns"
   ]
  },
  {
   "cell_type": "markdown",
   "metadata": {},
   "source": [
    "Let us tryout the scatter plots for each of the contributing factors to the Happiness Ranking. \n"
   ]
  },
  {
   "cell_type": "code",
   "execution_count": 54,
   "metadata": {
    "scrolled": false
   },
   "outputs": [
    {
     "data": {
      "image/png": "[encoded data removed]",
      "text/plain": [
       "<Figure size 1152x576 with 6 Axes>"
      ]
     },
     "metadata": {
      "needs_background": "light"
     },
     "output_type": "display_data"
    }
   ],
   "source": [
    "fig, axes = plt.subplots(2, 3, figsize=(16, 8))\n",
    "plt.suptitle('Graph Title', fontsize=10)\n",
    "\n",
    "# Use the axes for plotting\n",
    "axes[0,0].set_title('GDP-contribution in Happiness')\n",
    "sns.scatterplot(x = workinga['Happiness-Rank'], \n",
    "                y = workinga['GDP-contri'],\n",
    "               ax=axes[0,0])\n",
    "\n",
    "axes[0,0].set_xlabel('Happiness Rank')\n",
    "axes[0,0].set_ylabel('GDP Contibution')\n",
    "\n",
    "#______________\n",
    "axes[0,1].set_title('Family-contribution in Happiness')\n",
    "sns.scatterplot(x = workinga['Happiness-Rank'], \n",
    "                y = workinga['Fam-contri'],\n",
    "               ax=axes[0,1])\n",
    "\n",
    "axes[0,1].set_xlabel('Happiness Rank')\n",
    "axes[0,1].set_ylabel('Family Contibution')\n",
    "\n",
    "#______________\n",
    "axes[0,2].set_title('Health-contribution in Happiness')\n",
    "sns.scatterplot(x = workinga['Happiness-Rank'], \n",
    "                y = workinga['Health-contri'],\n",
    "               ax=axes[0,2])\n",
    "\n",
    "axes[0,2].set_xlabel('Happiness Rank')\n",
    "axes[0,2].set_ylabel('Health Contibution')\n",
    "\n",
    "#______________\n",
    "\n",
    "axes[1,0].set_title('Freedom-contribution in Happiness')\n",
    "sns.scatterplot(x = workinga['Happiness-Rank'], \n",
    "                y = workinga['Freedom-contri'],\n",
    "               ax=axes[1,0])\n",
    "\n",
    "axes[1,0].set_xlabel('Happiness Rank')\n",
    "axes[1,0].set_ylabel('Freedom Contibution')\n",
    "#______________\n",
    "\n",
    "axes[1,1].set_title('Trust on govt contribution in Happiness')\n",
    "sns.scatterplot(x = workinga['Happiness-Rank'], \n",
    "                y = workinga['Govt-contri'],\n",
    "               ax=axes[1,1])\n",
    "\n",
    "axes[1,1].set_xlabel('Happiness Rank')\n",
    "axes[1,1].set_ylabel('Govt Contibution')\n",
    "\n",
    "#______________\n",
    "axes[1,2].set_title('Generosity-contribution in Happiness')\n",
    "sns.scatterplot(x = workinga['Happiness-Rank'], \n",
    "                y = data1_df[\"Generosity\"]/data1_df[\"Happiness Score\"],\n",
    "               ax=axes[1,2])\n",
    "\n",
    "axes[1,2].set_xlabel('Happiness Rank')\n",
    "axes[1,2].set_ylabel('Generosity Contibution')\n",
    "\n",
    "plt.tight_layout(pad=2);"
   ]
  },
  {
   "cell_type": "markdown",
   "metadata": {},
   "source": [
    "GDP, Family, Health and Freedom contribution to the Happiness Ranking is near the same value for countries Rankig around 10. As the rank increases the values of the % contribution scatters more. Whereas there is a trend in Trust on Govt and Generosity contribution towards the happiness score. \n",
    "\n",
    "<b>Trust on the Govt:</b> The countries with lower ranking seems to have higher trust but which decreases and then increases with the Rank. But any comment on the reason of trend would be unjustified for the time being, so we will dig a bit deeper in it. <br>\n",
    "<b>Generosity Contribution:</b> The trend is very specticle, the contribution of generosity increases as the Happiness ranks increases. In other words, the contribution of generosity in happiness of less happier countries is more than that in happy countries."
   ]
  },
  {
   "cell_type": "code",
   "execution_count": null,
   "metadata": {},
   "outputs": [],
   "source": []
  },
  {
   "cell_type": "code",
   "execution_count": 23,
   "metadata": {},
   "outputs": [
    {
     "data": {
      "text/plain": [
       "Index(['Country', 'Region', 'Happiness Rank', 'Happiness Score',\n",
       "       'Standard Error', 'Economy (GDP per Capita)', 'Family',\n",
       "       'Health (Life Expectancy)', 'Freedom', 'Trust (Government Corruption)',\n",
       "       'Generosity', 'Dystopia Residual', 'GDP-contri', 'Fam-contri',\n",
       "       'Health-contri', 'Freedom-contri', 'Govt-contri', 'Gen-contri',\n",
       "       'Others'],\n",
       "      dtype='object')"
      ]
     },
     "execution_count": 23,
     "metadata": {},
     "output_type": "execute_result"
    }
   ],
   "source": [
    "data1_df.columns"
   ]
  },
  {
   "cell_type": "code",
   "execution_count": 24,
   "metadata": {},
   "outputs": [
    {
     "data": {
      "text/plain": [
       "<AxesSubplot:xlabel='Happiness Rank', ylabel='Generosity'>"
      ]
     },
     "execution_count": 24,
     "metadata": {},
     "output_type": "execute_result"
    },
    {
     "data": {
      "image/png": "[encoded data removed]",
      "text/plain": [
       "<Figure size 648x360 with 1 Axes>"
      ]
     },
     "metadata": {
      "needs_background": "light"
     },
     "output_type": "display_data"
    }
   ],
   "source": [
    "#sns.scatterplot(x = data1_df['Happiness Rank'], y = data1_df['Generosity'])\n",
    "sns.scatterplot(x = data1_df['Happiness Rank'], y = workinga['Generosity'])"
   ]
  },
  {
   "cell_type": "markdown",
   "metadata": {},
   "source": [
    "**TODO** - Explore one or more columns by plotting a graph below, and add some explanation about it"
   ]
  },
  {
   "cell_type": "code",
   "execution_count": 25,
   "metadata": {},
   "outputs": [
    {
     "data": {
      "text/plain": [
       "Index(['Country', 'Region', 'Happiness Rank', 'Happiness Score',\n",
       "       'Standard Error', 'Economy (GDP per Capita)', 'Family',\n",
       "       'Health (Life Expectancy)', 'Freedom', 'Trust (Government Corruption)',\n",
       "       'Generosity', 'Dystopia Residual', 'GDP-contri', 'Fam-contri',\n",
       "       'Health-contri', 'Freedom-contri', 'Govt-contri', 'Gen-contri',\n",
       "       'Others'],\n",
       "      dtype='object')"
      ]
     },
     "execution_count": 25,
     "metadata": {},
     "output_type": "execute_result"
    }
   ],
   "source": [
    "data1_df.columns"
   ]
  },
  {
   "cell_type": "code",
   "execution_count": 26,
   "metadata": {},
   "outputs": [],
   "source": [
    "region_wise = data1_df.groupby('Region')[['Happiness Rank','Happiness Score','Economy (GDP per Capita)', 'Family',\n",
    "       'Health (Life Expectancy)', 'Freedom', 'Trust (Government Corruption)', 'Generosity','Others' ]].mean()\n",
    "\n"
   ]
  },
  {
   "cell_type": "code",
   "execution_count": 27,
   "metadata": {},
   "outputs": [],
   "source": [
    "region_wise = region_wise.sort_values('Happiness Rank')"
   ]
  },
  {
   "cell_type": "code",
   "execution_count": 28,
   "metadata": {},
   "outputs": [
    {
     "data": {
      "text/html": [
       "<div>\n",
       "<style scoped>\n",
       "    .dataframe tbody tr th:only-of-type {\n",
       "        vertical-align: middle;\n",
       "    }\n",
       "\n",
       "    .dataframe tbody tr th {\n",
       "        vertical-align: top;\n",
       "    }\n",
       "\n",
       "    .dataframe thead th {\n",
       "        text-align: right;\n",
       "    }\n",
       "</style>\n",
       "<table border=\"1\" class=\"dataframe\">\n",
       "  <thead>\n",
       "    <tr style=\"text-align: right;\">\n",
       "      <th></th>\n",
       "      <th>Happiness Rank</th>\n",
       "      <th>Happiness Score</th>\n",
       "      <th>Economy (GDP per Capita)</th>\n",
       "      <th>Family</th>\n",
       "      <th>Health (Life Expectancy)</th>\n",
       "      <th>Freedom</th>\n",
       "      <th>Trust (Government Corruption)</th>\n",
       "      <th>Generosity</th>\n",
       "      <th>Others</th>\n",
       "      <th>Rank</th>\n",
       "    </tr>\n",
       "    <tr>\n",
       "      <th>Region</th>\n",
       "      <th></th>\n",
       "      <th></th>\n",
       "      <th></th>\n",
       "      <th></th>\n",
       "      <th></th>\n",
       "      <th></th>\n",
       "      <th></th>\n",
       "      <th></th>\n",
       "      <th></th>\n",
       "      <th></th>\n",
       "    </tr>\n",
       "  </thead>\n",
       "  <tbody>\n",
       "    <tr>\n",
       "      <th>Australia and New Zealand</th>\n",
       "      <td>9.500000</td>\n",
       "      <td>7.285000</td>\n",
       "      <td>1.291880</td>\n",
       "      <td>1.314450</td>\n",
       "      <td>0.919965</td>\n",
       "      <td>0.645310</td>\n",
       "      <td>0.392795</td>\n",
       "      <td>0.455315</td>\n",
       "      <td>0.310962</td>\n",
       "      <td>1</td>\n",
       "    </tr>\n",
       "    <tr>\n",
       "      <th>North America</th>\n",
       "      <td>10.000000</td>\n",
       "      <td>7.273000</td>\n",
       "      <td>1.360400</td>\n",
       "      <td>1.284860</td>\n",
       "      <td>0.883710</td>\n",
       "      <td>0.589505</td>\n",
       "      <td>0.244235</td>\n",
       "      <td>0.429580</td>\n",
       "      <td>0.341354</td>\n",
       "      <td>2</td>\n",
       "    </tr>\n",
       "    <tr>\n",
       "      <th>Western Europe</th>\n",
       "      <td>29.523810</td>\n",
       "      <td>6.689619</td>\n",
       "      <td>1.298596</td>\n",
       "      <td>1.247302</td>\n",
       "      <td>0.909148</td>\n",
       "      <td>0.549926</td>\n",
       "      <td>0.231463</td>\n",
       "      <td>0.302109</td>\n",
       "      <td>0.320566</td>\n",
       "      <td>3</td>\n",
       "    </tr>\n",
       "    <tr>\n",
       "      <th>Latin America and Caribbean</th>\n",
       "      <td>46.909091</td>\n",
       "      <td>6.144682</td>\n",
       "      <td>0.876815</td>\n",
       "      <td>1.104720</td>\n",
       "      <td>0.703870</td>\n",
       "      <td>0.501740</td>\n",
       "      <td>0.117172</td>\n",
       "      <td>0.217788</td>\n",
       "      <td>0.424590</td>\n",
       "      <td>4</td>\n",
       "    </tr>\n",
       "    <tr>\n",
       "      <th>Eastern Asia</th>\n",
       "      <td>64.500000</td>\n",
       "      <td>5.626167</td>\n",
       "      <td>1.151780</td>\n",
       "      <td>1.099427</td>\n",
       "      <td>0.877388</td>\n",
       "      <td>0.462490</td>\n",
       "      <td>0.127695</td>\n",
       "      <td>0.225885</td>\n",
       "      <td>0.296521</td>\n",
       "      <td>5</td>\n",
       "    </tr>\n",
       "    <tr>\n",
       "      <th>Middle East and Northern Africa</th>\n",
       "      <td>77.600000</td>\n",
       "      <td>5.406900</td>\n",
       "      <td>1.066973</td>\n",
       "      <td>0.920490</td>\n",
       "      <td>0.705616</td>\n",
       "      <td>0.361751</td>\n",
       "      <td>0.181702</td>\n",
       "      <td>0.190375</td>\n",
       "      <td>0.365229</td>\n",
       "      <td>6</td>\n",
       "    </tr>\n",
       "    <tr>\n",
       "      <th>Central and Eastern Europe</th>\n",
       "      <td>79.000000</td>\n",
       "      <td>5.332931</td>\n",
       "      <td>0.942438</td>\n",
       "      <td>1.053042</td>\n",
       "      <td>0.718774</td>\n",
       "      <td>0.358269</td>\n",
       "      <td>0.086674</td>\n",
       "      <td>0.152264</td>\n",
       "      <td>0.376850</td>\n",
       "      <td>7</td>\n",
       "    </tr>\n",
       "    <tr>\n",
       "      <th>Southeastern Asia</th>\n",
       "      <td>81.222222</td>\n",
       "      <td>5.317444</td>\n",
       "      <td>0.789054</td>\n",
       "      <td>0.940468</td>\n",
       "      <td>0.677357</td>\n",
       "      <td>0.557104</td>\n",
       "      <td>0.151276</td>\n",
       "      <td>0.419261</td>\n",
       "      <td>0.334208</td>\n",
       "      <td>8</td>\n",
       "    </tr>\n",
       "    <tr>\n",
       "      <th>Southern Asia</th>\n",
       "      <td>113.142857</td>\n",
       "      <td>4.580857</td>\n",
       "      <td>0.560486</td>\n",
       "      <td>0.645321</td>\n",
       "      <td>0.540830</td>\n",
       "      <td>0.373337</td>\n",
       "      <td>0.102536</td>\n",
       "      <td>0.341429</td>\n",
       "      <td>0.440190</td>\n",
       "      <td>9</td>\n",
       "    </tr>\n",
       "    <tr>\n",
       "      <th>Sub-Saharan Africa</th>\n",
       "      <td>127.900000</td>\n",
       "      <td>4.202800</td>\n",
       "      <td>0.380473</td>\n",
       "      <td>0.809085</td>\n",
       "      <td>0.282332</td>\n",
       "      <td>0.365944</td>\n",
       "      <td>0.123878</td>\n",
       "      <td>0.221137</td>\n",
       "      <td>0.479909</td>\n",
       "      <td>10</td>\n",
       "    </tr>\n",
       "  </tbody>\n",
       "</table>\n",
       "</div>"
      ],
      "text/plain": [
       "                                 Happiness Rank  Happiness Score  \\\n",
       "Region                                                             \n",
       "Australia and New Zealand              9.500000         7.285000   \n",
       "North America                         10.000000         7.273000   \n",
       "Western Europe                        29.523810         6.689619   \n",
       "Latin America and Caribbean           46.909091         6.144682   \n",
       "Eastern Asia                          64.500000         5.626167   \n",
       "Middle East and Northern Africa       77.600000         5.406900   \n",
       "Central and Eastern Europe            79.000000         5.332931   \n",
       "Southeastern Asia                     81.222222         5.317444   \n",
       "Southern Asia                        113.142857         4.580857   \n",
       "Sub-Saharan Africa                   127.900000         4.202800   \n",
       "\n",
       "                                 Economy (GDP per Capita)    Family  \\\n",
       "Region                                                                \n",
       "Australia and New Zealand                        1.291880  1.314450   \n",
       "North America                                    1.360400  1.284860   \n",
       "Western Europe                                   1.298596  1.247302   \n",
       "Latin America and Caribbean                      0.876815  1.104720   \n",
       "Eastern Asia                                     1.151780  1.099427   \n",
       "Middle East and Northern Africa                  1.066973  0.920490   \n",
       "Central and Eastern Europe                       0.942438  1.053042   \n",
       "Southeastern Asia                                0.789054  0.940468   \n",
       "Southern Asia                                    0.560486  0.645321   \n",
       "Sub-Saharan Africa                               0.380473  0.809085   \n",
       "\n",
       "                                 Health (Life Expectancy)   Freedom  \\\n",
       "Region                                                                \n",
       "Australia and New Zealand                        0.919965  0.645310   \n",
       "North America                                    0.883710  0.589505   \n",
       "Western Europe                                   0.909148  0.549926   \n",
       "Latin America and Caribbean                      0.703870  0.501740   \n",
       "Eastern Asia                                     0.877388  0.462490   \n",
       "Middle East and Northern Africa                  0.705616  0.361751   \n",
       "Central and Eastern Europe                       0.718774  0.358269   \n",
       "Southeastern Asia                                0.677357  0.557104   \n",
       "Southern Asia                                    0.540830  0.373337   \n",
       "Sub-Saharan Africa                               0.282332  0.365944   \n",
       "\n",
       "                                 Trust (Government Corruption)  Generosity  \\\n",
       "Region                                                                       \n",
       "Australia and New Zealand                             0.392795    0.455315   \n",
       "North America                                         0.244235    0.429580   \n",
       "Western Europe                                        0.231463    0.302109   \n",
       "Latin America and Caribbean                           0.117172    0.217788   \n",
       "Eastern Asia                                          0.127695    0.225885   \n",
       "Middle East and Northern Africa                       0.181702    0.190375   \n",
       "Central and Eastern Europe                            0.086674    0.152264   \n",
       "Southeastern Asia                                     0.151276    0.419261   \n",
       "Southern Asia                                         0.102536    0.341429   \n",
       "Sub-Saharan Africa                                    0.123878    0.221137   \n",
       "\n",
       "                                   Others Rank  \n",
       "Region                                          \n",
       "Australia and New Zealand        0.310962    1  \n",
       "North America                    0.341354    2  \n",
       "Western Europe                   0.320566    3  \n",
       "Latin America and Caribbean      0.424590    4  \n",
       "Eastern Asia                     0.296521    5  \n",
       "Middle East and Northern Africa  0.365229    6  \n",
       "Central and Eastern Europe       0.376850    7  \n",
       "Southeastern Asia                0.334208    8  \n",
       "Southern Asia                    0.440190    9  \n",
       "Sub-Saharan Africa               0.479909   10  "
      ]
     },
     "execution_count": 28,
     "metadata": {},
     "output_type": "execute_result"
    }
   ],
   "source": [
    "region_wise['Rank'] = ['1','2','3','4','5','6','7','8','9','10']\n",
    "region_wise"
   ]
  },
  {
   "cell_type": "markdown",
   "metadata": {},
   "source": [
    "**TODO** - Explore one or more columns by plotting a graph below, and add some explanation about it"
   ]
  },
  {
   "cell_type": "code",
   "execution_count": 29,
   "metadata": {},
   "outputs": [
    {
     "data": {
      "image/png": "[encoded data removed]",
      "text/plain": [
       "<Figure size 1152x576 with 9 Axes>"
      ]
     },
     "metadata": {
      "needs_background": "light"
     },
     "output_type": "display_data"
    }
   ],
   "source": [
    "fig, axes = plt.subplots(3, 3, figsize=(16, 8))\n",
    "plt.suptitle('Graph Title', fontsize=10)\n",
    "\n",
    "sns.barplot(x = region_wise['Rank'], y = region_wise['Economy (GDP per Capita)'], ax = axes[0,0])\n",
    "sns.barplot(x = region_wise['Rank'], y = region_wise['Family'], ax = axes[0,1])\n",
    "sns.barplot(x = region_wise['Rank'], y = region_wise['Health (Life Expectancy)'], ax = axes[0,2])\n",
    "sns.barplot(x = region_wise['Rank'], y = region_wise['Freedom'], ax = axes[1,0])\n",
    "sns.barplot(x = region_wise['Rank'], y = region_wise['Trust (Government Corruption)'], ax = axes[1,1])\n",
    "sns.barplot(x = region_wise['Rank'], y = region_wise['Generosity'], ax = axes[1,2])\n",
    "sns.barplot(x = region_wise['Rank'], y = region_wise['Others'], ax = axes[2,1])\n",
    "\n",
    "plt.tight_layout(pad=2)"
   ]
  },
  {
   "cell_type": "markdown",
   "metadata": {},
   "source": [
    "Let us save and upload our work to Jovian before continuing"
   ]
  },
  {
   "cell_type": "code",
   "execution_count": 30,
   "metadata": {},
   "outputs": [],
   "source": [
    "import jovian"
   ]
  },
  {
   "cell_type": "code",
   "execution_count": 31,
   "metadata": {},
   "outputs": [
    {
     "data": {
      "application/javascript": [
       "window.require && require([\"base/js/namespace\"],function(Jupyter){Jupyter.notebook.save_checkpoint()})"
      ],
      "text/plain": [
       "<IPython.core.display.Javascript object>"
      ]
     },
     "metadata": {},
     "output_type": "display_data"
    },
    {
     "name": "stdout",
     "output_type": "stream",
     "text": [
      "[jovian] Attempting to save notebook..\u001b[0m\n",
      "[jovian] Updating notebook \"jaggarwal1/contributing-to-happiness\" on https://jovian.ai\u001b[0m\n",
      "[jovian] Uploading notebook..\u001b[0m\n",
      "[jovian] Uploading additional files...\u001b[0m\n",
      "[jovian] Committed successfully! https://jovian.ai/jaggarwal1/contributing-to-happiness\u001b[0m\n"
     ]
    },
    {
     "data": {
      "text/plain": [
       "'https://jovian.ai/jaggarwal1/contributing-to-happiness'"
      ]
     },
     "execution_count": 31,
     "metadata": {},
     "output_type": "execute_result"
    }
   ],
   "source": [
    "jovian.commit()"
   ]
  },
  {
   "cell_type": "markdown",
   "metadata": {},
   "source": [
    "## Asking and Answering Questions\n",
    "\n",
    "TODO - write some explanation here.\n",
    "\n"
   ]
  },
  {
   "cell_type": "markdown",
   "metadata": {},
   "source": [
    "> Instructions (delete this cell)\n",
    ">\n",
    "> - Ask at least 5 interesting questions about your dataset\n",
    "> - Answer the questions either by computing the results using Numpy/Pandas or by plotting graphs using Matplotlib/Seaborn\n",
    "> - Create new columns, merge multiple dataset and perform grouping/aggregation wherever necessary\n",
    "> - Wherever you're using a library function from Pandas/Numpy/Matplotlib etc. explain briefly what it does\n",
    "\n"
   ]
  },
  {
   "cell_type": "markdown",
   "metadata": {},
   "source": [
    "#### Q1: Which countries is at the topmost Freedom factor and majorly in which region?"
   ]
  },
  {
   "cell_type": "code",
   "execution_count": 46,
   "metadata": {},
   "outputs": [
    {
     "data": {
      "text/html": [
       "<div>\n",
       "<style scoped>\n",
       "    .dataframe tbody tr th:only-of-type {\n",
       "        vertical-align: middle;\n",
       "    }\n",
       "\n",
       "    .dataframe tbody tr th {\n",
       "        vertical-align: top;\n",
       "    }\n",
       "\n",
       "    .dataframe thead th {\n",
       "        text-align: right;\n",
       "    }\n",
       "</style>\n",
       "<table border=\"1\" class=\"dataframe\">\n",
       "  <thead>\n",
       "    <tr style=\"text-align: right;\">\n",
       "      <th></th>\n",
       "      <th>Country</th>\n",
       "      <th>Region</th>\n",
       "      <th>Happiness Rank</th>\n",
       "      <th>Happiness Score</th>\n",
       "      <th>Standard Error</th>\n",
       "      <th>Economy (GDP per Capita)</th>\n",
       "      <th>Family</th>\n",
       "      <th>Health (Life Expectancy)</th>\n",
       "      <th>Freedom</th>\n",
       "      <th>Trust (Government Corruption)</th>\n",
       "      <th>Generosity</th>\n",
       "      <th>Dystopia Residual</th>\n",
       "      <th>GDP-contri</th>\n",
       "      <th>Fam-contri</th>\n",
       "      <th>Health-contri</th>\n",
       "      <th>Freedom-contri</th>\n",
       "      <th>Govt-contri</th>\n",
       "      <th>Gen-contri</th>\n",
       "      <th>Others</th>\n",
       "    </tr>\n",
       "  </thead>\n",
       "  <tbody>\n",
       "    <tr>\n",
       "      <th>27</th>\n",
       "      <td>Qatar</td>\n",
       "      <td>Middle East and Northern Africa</td>\n",
       "      <td>28</td>\n",
       "      <td>6.611</td>\n",
       "      <td>0.06257</td>\n",
       "      <td>1.69042</td>\n",
       "      <td>1.07860</td>\n",
       "      <td>0.79733</td>\n",
       "      <td>0.64040</td>\n",
       "      <td>0.52208</td>\n",
       "      <td>0.32573</td>\n",
       "      <td>1.55674</td>\n",
       "      <td>0.255698</td>\n",
       "      <td>0.163152</td>\n",
       "      <td>0.120607</td>\n",
       "      <td>0.096869</td>\n",
       "      <td>0.078971</td>\n",
       "      <td>0.049271</td>\n",
       "      <td>0.235477</td>\n",
       "    </tr>\n",
       "    <tr>\n",
       "      <th>19</th>\n",
       "      <td>United Arab Emirates</td>\n",
       "      <td>Middle East and Northern Africa</td>\n",
       "      <td>20</td>\n",
       "      <td>6.901</td>\n",
       "      <td>0.03729</td>\n",
       "      <td>1.42727</td>\n",
       "      <td>1.12575</td>\n",
       "      <td>0.80925</td>\n",
       "      <td>0.64157</td>\n",
       "      <td>0.38583</td>\n",
       "      <td>0.26428</td>\n",
       "      <td>2.24743</td>\n",
       "      <td>0.206821</td>\n",
       "      <td>0.163129</td>\n",
       "      <td>0.117266</td>\n",
       "      <td>0.092968</td>\n",
       "      <td>0.055909</td>\n",
       "      <td>0.038296</td>\n",
       "      <td>0.325667</td>\n",
       "    </tr>\n",
       "    <tr>\n",
       "      <th>5</th>\n",
       "      <td>Finland</td>\n",
       "      <td>Western Europe</td>\n",
       "      <td>6</td>\n",
       "      <td>7.406</td>\n",
       "      <td>0.03140</td>\n",
       "      <td>1.29025</td>\n",
       "      <td>1.31826</td>\n",
       "      <td>0.88911</td>\n",
       "      <td>0.64169</td>\n",
       "      <td>0.41372</td>\n",
       "      <td>0.23351</td>\n",
       "      <td>2.61955</td>\n",
       "      <td>0.174217</td>\n",
       "      <td>0.177999</td>\n",
       "      <td>0.120053</td>\n",
       "      <td>0.086645</td>\n",
       "      <td>0.055863</td>\n",
       "      <td>0.031530</td>\n",
       "      <td>0.353706</td>\n",
       "    </tr>\n",
       "    <tr>\n",
       "      <th>2</th>\n",
       "      <td>Denmark</td>\n",
       "      <td>Western Europe</td>\n",
       "      <td>3</td>\n",
       "      <td>7.527</td>\n",
       "      <td>0.03328</td>\n",
       "      <td>1.32548</td>\n",
       "      <td>1.36058</td>\n",
       "      <td>0.87464</td>\n",
       "      <td>0.64938</td>\n",
       "      <td>0.48357</td>\n",
       "      <td>0.34139</td>\n",
       "      <td>2.49204</td>\n",
       "      <td>0.176097</td>\n",
       "      <td>0.180760</td>\n",
       "      <td>0.116200</td>\n",
       "      <td>0.086273</td>\n",
       "      <td>0.064245</td>\n",
       "      <td>0.045355</td>\n",
       "      <td>0.331080</td>\n",
       "    </tr>\n",
       "    <tr>\n",
       "      <th>9</th>\n",
       "      <td>Australia</td>\n",
       "      <td>Australia and New Zealand</td>\n",
       "      <td>10</td>\n",
       "      <td>7.284</td>\n",
       "      <td>0.04083</td>\n",
       "      <td>1.33358</td>\n",
       "      <td>1.30923</td>\n",
       "      <td>0.93156</td>\n",
       "      <td>0.65124</td>\n",
       "      <td>0.35637</td>\n",
       "      <td>0.43562</td>\n",
       "      <td>2.26646</td>\n",
       "      <td>0.183083</td>\n",
       "      <td>0.179741</td>\n",
       "      <td>0.127891</td>\n",
       "      <td>0.089407</td>\n",
       "      <td>0.048925</td>\n",
       "      <td>0.059805</td>\n",
       "      <td>0.311156</td>\n",
       "    </tr>\n",
       "    <tr>\n",
       "      <th>43</th>\n",
       "      <td>Uzbekistan</td>\n",
       "      <td>Central and Eastern Europe</td>\n",
       "      <td>44</td>\n",
       "      <td>6.003</td>\n",
       "      <td>0.04361</td>\n",
       "      <td>0.63244</td>\n",
       "      <td>1.34043</td>\n",
       "      <td>0.59772</td>\n",
       "      <td>0.65821</td>\n",
       "      <td>0.30826</td>\n",
       "      <td>0.22837</td>\n",
       "      <td>2.23741</td>\n",
       "      <td>0.105354</td>\n",
       "      <td>0.223293</td>\n",
       "      <td>0.099570</td>\n",
       "      <td>0.109647</td>\n",
       "      <td>0.051351</td>\n",
       "      <td>0.038043</td>\n",
       "      <td>0.372715</td>\n",
       "    </tr>\n",
       "    <tr>\n",
       "      <th>7</th>\n",
       "      <td>Sweden</td>\n",
       "      <td>Western Europe</td>\n",
       "      <td>8</td>\n",
       "      <td>7.364</td>\n",
       "      <td>0.03157</td>\n",
       "      <td>1.33171</td>\n",
       "      <td>1.28907</td>\n",
       "      <td>0.91087</td>\n",
       "      <td>0.65980</td>\n",
       "      <td>0.43844</td>\n",
       "      <td>0.36262</td>\n",
       "      <td>2.37119</td>\n",
       "      <td>0.180841</td>\n",
       "      <td>0.175050</td>\n",
       "      <td>0.123692</td>\n",
       "      <td>0.089598</td>\n",
       "      <td>0.059538</td>\n",
       "      <td>0.049242</td>\n",
       "      <td>0.321998</td>\n",
       "    </tr>\n",
       "    <tr>\n",
       "      <th>144</th>\n",
       "      <td>Cambodia</td>\n",
       "      <td>Southeastern Asia</td>\n",
       "      <td>145</td>\n",
       "      <td>3.819</td>\n",
       "      <td>0.05069</td>\n",
       "      <td>0.46038</td>\n",
       "      <td>0.62736</td>\n",
       "      <td>0.61114</td>\n",
       "      <td>0.66246</td>\n",
       "      <td>0.07247</td>\n",
       "      <td>0.40359</td>\n",
       "      <td>0.98195</td>\n",
       "      <td>0.120550</td>\n",
       "      <td>0.164273</td>\n",
       "      <td>0.160026</td>\n",
       "      <td>0.173464</td>\n",
       "      <td>0.018976</td>\n",
       "      <td>0.105679</td>\n",
       "      <td>0.257122</td>\n",
       "    </tr>\n",
       "    <tr>\n",
       "      <th>0</th>\n",
       "      <td>Switzerland</td>\n",
       "      <td>Western Europe</td>\n",
       "      <td>1</td>\n",
       "      <td>7.587</td>\n",
       "      <td>0.03411</td>\n",
       "      <td>1.39651</td>\n",
       "      <td>1.34951</td>\n",
       "      <td>0.94143</td>\n",
       "      <td>0.66557</td>\n",
       "      <td>0.41978</td>\n",
       "      <td>0.29678</td>\n",
       "      <td>2.51738</td>\n",
       "      <td>0.184066</td>\n",
       "      <td>0.177871</td>\n",
       "      <td>0.124085</td>\n",
       "      <td>0.087725</td>\n",
       "      <td>0.055329</td>\n",
       "      <td>0.039117</td>\n",
       "      <td>0.331802</td>\n",
       "    </tr>\n",
       "    <tr>\n",
       "      <th>3</th>\n",
       "      <td>Norway</td>\n",
       "      <td>Western Europe</td>\n",
       "      <td>4</td>\n",
       "      <td>7.522</td>\n",
       "      <td>0.03880</td>\n",
       "      <td>1.45900</td>\n",
       "      <td>1.33095</td>\n",
       "      <td>0.88521</td>\n",
       "      <td>0.66973</td>\n",
       "      <td>0.36503</td>\n",
       "      <td>0.34699</td>\n",
       "      <td>2.46531</td>\n",
       "      <td>0.193964</td>\n",
       "      <td>0.176941</td>\n",
       "      <td>0.117683</td>\n",
       "      <td>0.089036</td>\n",
       "      <td>0.048528</td>\n",
       "      <td>0.046130</td>\n",
       "      <td>0.327747</td>\n",
       "    </tr>\n",
       "  </tbody>\n",
       "</table>\n",
       "</div>"
      ],
      "text/plain": [
       "                  Country                           Region  Happiness Rank  \\\n",
       "27                  Qatar  Middle East and Northern Africa              28   \n",
       "19   United Arab Emirates  Middle East and Northern Africa              20   \n",
       "5                 Finland                   Western Europe               6   \n",
       "2                 Denmark                   Western Europe               3   \n",
       "9               Australia        Australia and New Zealand              10   \n",
       "43             Uzbekistan       Central and Eastern Europe              44   \n",
       "7                  Sweden                   Western Europe               8   \n",
       "144              Cambodia                Southeastern Asia             145   \n",
       "0             Switzerland                   Western Europe               1   \n",
       "3                  Norway                   Western Europe               4   \n",
       "\n",
       "     Happiness Score  Standard Error  Economy (GDP per Capita)   Family  \\\n",
       "27             6.611         0.06257                   1.69042  1.07860   \n",
       "19             6.901         0.03729                   1.42727  1.12575   \n",
       "5              7.406         0.03140                   1.29025  1.31826   \n",
       "2              7.527         0.03328                   1.32548  1.36058   \n",
       "9              7.284         0.04083                   1.33358  1.30923   \n",
       "43             6.003         0.04361                   0.63244  1.34043   \n",
       "7              7.364         0.03157                   1.33171  1.28907   \n",
       "144            3.819         0.05069                   0.46038  0.62736   \n",
       "0              7.587         0.03411                   1.39651  1.34951   \n",
       "3              7.522         0.03880                   1.45900  1.33095   \n",
       "\n",
       "     Health (Life Expectancy)  Freedom  Trust (Government Corruption)  \\\n",
       "27                    0.79733  0.64040                        0.52208   \n",
       "19                    0.80925  0.64157                        0.38583   \n",
       "5                     0.88911  0.64169                        0.41372   \n",
       "2                     0.87464  0.64938                        0.48357   \n",
       "9                     0.93156  0.65124                        0.35637   \n",
       "43                    0.59772  0.65821                        0.30826   \n",
       "7                     0.91087  0.65980                        0.43844   \n",
       "144                   0.61114  0.66246                        0.07247   \n",
       "0                     0.94143  0.66557                        0.41978   \n",
       "3                     0.88521  0.66973                        0.36503   \n",
       "\n",
       "     Generosity  Dystopia Residual  GDP-contri  Fam-contri  Health-contri  \\\n",
       "27      0.32573            1.55674    0.255698    0.163152       0.120607   \n",
       "19      0.26428            2.24743    0.206821    0.163129       0.117266   \n",
       "5       0.23351            2.61955    0.174217    0.177999       0.120053   \n",
       "2       0.34139            2.49204    0.176097    0.180760       0.116200   \n",
       "9       0.43562            2.26646    0.183083    0.179741       0.127891   \n",
       "43      0.22837            2.23741    0.105354    0.223293       0.099570   \n",
       "7       0.36262            2.37119    0.180841    0.175050       0.123692   \n",
       "144     0.40359            0.98195    0.120550    0.164273       0.160026   \n",
       "0       0.29678            2.51738    0.184066    0.177871       0.124085   \n",
       "3       0.34699            2.46531    0.193964    0.176941       0.117683   \n",
       "\n",
       "     Freedom-contri  Govt-contri  Gen-contri    Others  \n",
       "27         0.096869     0.078971    0.049271  0.235477  \n",
       "19         0.092968     0.055909    0.038296  0.325667  \n",
       "5          0.086645     0.055863    0.031530  0.353706  \n",
       "2          0.086273     0.064245    0.045355  0.331080  \n",
       "9          0.089407     0.048925    0.059805  0.311156  \n",
       "43         0.109647     0.051351    0.038043  0.372715  \n",
       "7          0.089598     0.059538    0.049242  0.321998  \n",
       "144        0.173464     0.018976    0.105679  0.257122  \n",
       "0          0.087725     0.055329    0.039117  0.331802  \n",
       "3          0.089036     0.048528    0.046130  0.327747  "
      ]
     },
     "execution_count": 46,
     "metadata": {},
     "output_type": "execute_result"
    }
   ],
   "source": [
    "a = data1_df.sort_values('Freedom').tail(10)\n",
    "a"
   ]
  },
  {
   "cell_type": "code",
   "execution_count": 47,
   "metadata": {
    "scrolled": true
   },
   "outputs": [
    {
     "data": {
      "text/plain": [
       "Region\n",
       "Australia and New Zealand          1\n",
       "Central and Eastern Europe         1\n",
       "Middle East and Northern Africa    2\n",
       "Southeastern Asia                  1\n",
       "Western Europe                     5\n",
       "Name: Country, dtype: int64"
      ]
     },
     "execution_count": 47,
     "metadata": {},
     "output_type": "execute_result"
    }
   ],
   "source": [
    "b = a.groupby('Region').count()\n",
    "b['Country']"
   ]
  },
  {
   "cell_type": "markdown",
   "metadata": {},
   "source": [
    "Clearly, <b> Western Europe </b> Countries has the best freedom scores as compared to other regions.  "
   ]
  },
  {
   "cell_type": "markdown",
   "metadata": {},
   "source": [
    "#### Q2: Which countries has least trust in the government?"
   ]
  },
  {
   "cell_type": "code",
   "execution_count": 58,
   "metadata": {},
   "outputs": [
    {
     "data": {
      "text/html": [
       "<div>\n",
       "<style scoped>\n",
       "    .dataframe tbody tr th:only-of-type {\n",
       "        vertical-align: middle;\n",
       "    }\n",
       "\n",
       "    .dataframe tbody tr th {\n",
       "        vertical-align: top;\n",
       "    }\n",
       "\n",
       "    .dataframe thead th {\n",
       "        text-align: right;\n",
       "    }\n",
       "</style>\n",
       "<table border=\"1\" class=\"dataframe\">\n",
       "  <thead>\n",
       "    <tr style=\"text-align: right;\">\n",
       "      <th></th>\n",
       "      <th>Country</th>\n",
       "      <th>Region</th>\n",
       "      <th>Happiness Rank</th>\n",
       "      <th>Happiness Score</th>\n",
       "      <th>Standard Error</th>\n",
       "      <th>Economy (GDP per Capita)</th>\n",
       "      <th>Family</th>\n",
       "      <th>Health (Life Expectancy)</th>\n",
       "      <th>Freedom</th>\n",
       "      <th>Trust (Government Corruption)</th>\n",
       "      <th>Generosity</th>\n",
       "      <th>Dystopia Residual</th>\n",
       "      <th>GDP-contri</th>\n",
       "      <th>Fam-contri</th>\n",
       "      <th>Health-contri</th>\n",
       "      <th>Freedom-contri</th>\n",
       "      <th>Govt-contri</th>\n",
       "      <th>Gen-contri</th>\n",
       "      <th>Others</th>\n",
       "    </tr>\n",
       "  </thead>\n",
       "  <tbody>\n",
       "    <tr>\n",
       "      <th>73</th>\n",
       "      <td>Indonesia</td>\n",
       "      <td>Southeastern Asia</td>\n",
       "      <td>74</td>\n",
       "      <td>5.399</td>\n",
       "      <td>0.02596</td>\n",
       "      <td>0.82827</td>\n",
       "      <td>1.08708</td>\n",
       "      <td>0.63793</td>\n",
       "      <td>0.46611</td>\n",
       "      <td>0.00000</td>\n",
       "      <td>0.51535</td>\n",
       "      <td>1.86399</td>\n",
       "      <td>0.153412</td>\n",
       "      <td>0.201348</td>\n",
       "      <td>0.118157</td>\n",
       "      <td>0.086333</td>\n",
       "      <td>0.000000</td>\n",
       "      <td>0.095453</td>\n",
       "      <td>0.345247</td>\n",
       "    </tr>\n",
       "    <tr>\n",
       "      <th>95</th>\n",
       "      <td>Bosnia and Herzegovina</td>\n",
       "      <td>Central and Eastern Europe</td>\n",
       "      <td>96</td>\n",
       "      <td>4.949</td>\n",
       "      <td>0.06913</td>\n",
       "      <td>0.83223</td>\n",
       "      <td>0.91916</td>\n",
       "      <td>0.79081</td>\n",
       "      <td>0.09245</td>\n",
       "      <td>0.00227</td>\n",
       "      <td>0.24808</td>\n",
       "      <td>2.06367</td>\n",
       "      <td>0.168161</td>\n",
       "      <td>0.185726</td>\n",
       "      <td>0.159792</td>\n",
       "      <td>0.018681</td>\n",
       "      <td>0.000459</td>\n",
       "      <td>0.050127</td>\n",
       "      <td>0.416987</td>\n",
       "    </tr>\n",
       "    <tr>\n",
       "      <th>85</th>\n",
       "      <td>Romania</td>\n",
       "      <td>Central and Eastern Europe</td>\n",
       "      <td>86</td>\n",
       "      <td>5.124</td>\n",
       "      <td>0.06607</td>\n",
       "      <td>1.04345</td>\n",
       "      <td>0.88588</td>\n",
       "      <td>0.76890</td>\n",
       "      <td>0.35068</td>\n",
       "      <td>0.00649</td>\n",
       "      <td>0.13748</td>\n",
       "      <td>1.93129</td>\n",
       "      <td>0.203640</td>\n",
       "      <td>0.172888</td>\n",
       "      <td>0.150059</td>\n",
       "      <td>0.068439</td>\n",
       "      <td>0.001267</td>\n",
       "      <td>0.026831</td>\n",
       "      <td>0.376911</td>\n",
       "    </tr>\n",
       "    <tr>\n",
       "      <th>133</th>\n",
       "      <td>Bulgaria</td>\n",
       "      <td>Central and Eastern Europe</td>\n",
       "      <td>134</td>\n",
       "      <td>4.218</td>\n",
       "      <td>0.04828</td>\n",
       "      <td>1.01216</td>\n",
       "      <td>1.10614</td>\n",
       "      <td>0.76649</td>\n",
       "      <td>0.30587</td>\n",
       "      <td>0.00872</td>\n",
       "      <td>0.11921</td>\n",
       "      <td>0.89991</td>\n",
       "      <td>0.239962</td>\n",
       "      <td>0.262243</td>\n",
       "      <td>0.181719</td>\n",
       "      <td>0.072515</td>\n",
       "      <td>0.002067</td>\n",
       "      <td>0.028262</td>\n",
       "      <td>0.213350</td>\n",
       "    </tr>\n",
       "    <tr>\n",
       "      <th>55</th>\n",
       "      <td>Lithuania</td>\n",
       "      <td>Central and Eastern Europe</td>\n",
       "      <td>56</td>\n",
       "      <td>5.833</td>\n",
       "      <td>0.03843</td>\n",
       "      <td>1.14723</td>\n",
       "      <td>1.25745</td>\n",
       "      <td>0.73128</td>\n",
       "      <td>0.21342</td>\n",
       "      <td>0.01031</td>\n",
       "      <td>0.02641</td>\n",
       "      <td>2.44649</td>\n",
       "      <td>0.196679</td>\n",
       "      <td>0.215575</td>\n",
       "      <td>0.125369</td>\n",
       "      <td>0.036588</td>\n",
       "      <td>0.001768</td>\n",
       "      <td>0.004528</td>\n",
       "      <td>0.419422</td>\n",
       "    </tr>\n",
       "    <tr>\n",
       "      <th>87</th>\n",
       "      <td>Portugal</td>\n",
       "      <td>Western Europe</td>\n",
       "      <td>88</td>\n",
       "      <td>5.102</td>\n",
       "      <td>0.04802</td>\n",
       "      <td>1.15991</td>\n",
       "      <td>1.13935</td>\n",
       "      <td>0.87519</td>\n",
       "      <td>0.51469</td>\n",
       "      <td>0.01078</td>\n",
       "      <td>0.13719</td>\n",
       "      <td>1.26462</td>\n",
       "      <td>0.227344</td>\n",
       "      <td>0.223314</td>\n",
       "      <td>0.171539</td>\n",
       "      <td>0.100880</td>\n",
       "      <td>0.002113</td>\n",
       "      <td>0.026889</td>\n",
       "      <td>0.247868</td>\n",
       "    </tr>\n",
       "    <tr>\n",
       "      <th>40</th>\n",
       "      <td>Trinidad and Tobago</td>\n",
       "      <td>Latin America and Caribbean</td>\n",
       "      <td>41</td>\n",
       "      <td>6.168</td>\n",
       "      <td>0.10895</td>\n",
       "      <td>1.21183</td>\n",
       "      <td>1.18354</td>\n",
       "      <td>0.61483</td>\n",
       "      <td>0.55884</td>\n",
       "      <td>0.01140</td>\n",
       "      <td>0.31844</td>\n",
       "      <td>2.26882</td>\n",
       "      <td>0.196470</td>\n",
       "      <td>0.191884</td>\n",
       "      <td>0.099681</td>\n",
       "      <td>0.090603</td>\n",
       "      <td>0.001848</td>\n",
       "      <td>0.051628</td>\n",
       "      <td>0.367837</td>\n",
       "    </tr>\n",
       "    <tr>\n",
       "      <th>101</th>\n",
       "      <td>Greece</td>\n",
       "      <td>Western Europe</td>\n",
       "      <td>102</td>\n",
       "      <td>4.857</td>\n",
       "      <td>0.05062</td>\n",
       "      <td>1.15406</td>\n",
       "      <td>0.92933</td>\n",
       "      <td>0.88213</td>\n",
       "      <td>0.07699</td>\n",
       "      <td>0.01397</td>\n",
       "      <td>0.00000</td>\n",
       "      <td>1.80101</td>\n",
       "      <td>0.237608</td>\n",
       "      <td>0.191338</td>\n",
       "      <td>0.181620</td>\n",
       "      <td>0.015851</td>\n",
       "      <td>0.002876</td>\n",
       "      <td>0.000000</td>\n",
       "      <td>0.370807</td>\n",
       "    </tr>\n",
       "    <tr>\n",
       "      <th>51</th>\n",
       "      <td>Moldova</td>\n",
       "      <td>Central and Eastern Europe</td>\n",
       "      <td>52</td>\n",
       "      <td>5.889</td>\n",
       "      <td>0.03799</td>\n",
       "      <td>0.59448</td>\n",
       "      <td>1.01528</td>\n",
       "      <td>0.61826</td>\n",
       "      <td>0.32818</td>\n",
       "      <td>0.01615</td>\n",
       "      <td>0.20951</td>\n",
       "      <td>3.10712</td>\n",
       "      <td>0.100948</td>\n",
       "      <td>0.172403</td>\n",
       "      <td>0.104986</td>\n",
       "      <td>0.055728</td>\n",
       "      <td>0.002742</td>\n",
       "      <td>0.035576</td>\n",
       "      <td>0.527614</td>\n",
       "    </tr>\n",
       "    <tr>\n",
       "      <th>64</th>\n",
       "      <td>Jamaica</td>\n",
       "      <td>Latin America and Caribbean</td>\n",
       "      <td>65</td>\n",
       "      <td>5.709</td>\n",
       "      <td>0.13693</td>\n",
       "      <td>0.81038</td>\n",
       "      <td>1.15102</td>\n",
       "      <td>0.68741</td>\n",
       "      <td>0.50442</td>\n",
       "      <td>0.02299</td>\n",
       "      <td>0.21230</td>\n",
       "      <td>2.32038</td>\n",
       "      <td>0.141948</td>\n",
       "      <td>0.201615</td>\n",
       "      <td>0.120408</td>\n",
       "      <td>0.088355</td>\n",
       "      <td>0.004027</td>\n",
       "      <td>0.037187</td>\n",
       "      <td>0.406442</td>\n",
       "    </tr>\n",
       "  </tbody>\n",
       "</table>\n",
       "</div>"
      ],
      "text/plain": [
       "                    Country                       Region  Happiness Rank  \\\n",
       "73                Indonesia            Southeastern Asia              74   \n",
       "95   Bosnia and Herzegovina   Central and Eastern Europe              96   \n",
       "85                  Romania   Central and Eastern Europe              86   \n",
       "133                Bulgaria   Central and Eastern Europe             134   \n",
       "55                Lithuania   Central and Eastern Europe              56   \n",
       "87                 Portugal               Western Europe              88   \n",
       "40      Trinidad and Tobago  Latin America and Caribbean              41   \n",
       "101                  Greece               Western Europe             102   \n",
       "51                  Moldova   Central and Eastern Europe              52   \n",
       "64                  Jamaica  Latin America and Caribbean              65   \n",
       "\n",
       "     Happiness Score  Standard Error  Economy (GDP per Capita)   Family  \\\n",
       "73             5.399         0.02596                   0.82827  1.08708   \n",
       "95             4.949         0.06913                   0.83223  0.91916   \n",
       "85             5.124         0.06607                   1.04345  0.88588   \n",
       "133            4.218         0.04828                   1.01216  1.10614   \n",
       "55             5.833         0.03843                   1.14723  1.25745   \n",
       "87             5.102         0.04802                   1.15991  1.13935   \n",
       "40             6.168         0.10895                   1.21183  1.18354   \n",
       "101            4.857         0.05062                   1.15406  0.92933   \n",
       "51             5.889         0.03799                   0.59448  1.01528   \n",
       "64             5.709         0.13693                   0.81038  1.15102   \n",
       "\n",
       "     Health (Life Expectancy)  Freedom  Trust (Government Corruption)  \\\n",
       "73                    0.63793  0.46611                        0.00000   \n",
       "95                    0.79081  0.09245                        0.00227   \n",
       "85                    0.76890  0.35068                        0.00649   \n",
       "133                   0.76649  0.30587                        0.00872   \n",
       "55                    0.73128  0.21342                        0.01031   \n",
       "87                    0.87519  0.51469                        0.01078   \n",
       "40                    0.61483  0.55884                        0.01140   \n",
       "101                   0.88213  0.07699                        0.01397   \n",
       "51                    0.61826  0.32818                        0.01615   \n",
       "64                    0.68741  0.50442                        0.02299   \n",
       "\n",
       "     Generosity  Dystopia Residual  GDP-contri  Fam-contri  Health-contri  \\\n",
       "73      0.51535            1.86399    0.153412    0.201348       0.118157   \n",
       "95      0.24808            2.06367    0.168161    0.185726       0.159792   \n",
       "85      0.13748            1.93129    0.203640    0.172888       0.150059   \n",
       "133     0.11921            0.89991    0.239962    0.262243       0.181719   \n",
       "55      0.02641            2.44649    0.196679    0.215575       0.125369   \n",
       "87      0.13719            1.26462    0.227344    0.223314       0.171539   \n",
       "40      0.31844            2.26882    0.196470    0.191884       0.099681   \n",
       "101     0.00000            1.80101    0.237608    0.191338       0.181620   \n",
       "51      0.20951            3.10712    0.100948    0.172403       0.104986   \n",
       "64      0.21230            2.32038    0.141948    0.201615       0.120408   \n",
       "\n",
       "     Freedom-contri  Govt-contri  Gen-contri    Others  \n",
       "73         0.086333     0.000000    0.095453  0.345247  \n",
       "95         0.018681     0.000459    0.050127  0.416987  \n",
       "85         0.068439     0.001267    0.026831  0.376911  \n",
       "133        0.072515     0.002067    0.028262  0.213350  \n",
       "55         0.036588     0.001768    0.004528  0.419422  \n",
       "87         0.100880     0.002113    0.026889  0.247868  \n",
       "40         0.090603     0.001848    0.051628  0.367837  \n",
       "101        0.015851     0.002876    0.000000  0.370807  \n",
       "51         0.055728     0.002742    0.035576  0.527614  \n",
       "64         0.088355     0.004027    0.037187  0.406442  "
      ]
     },
     "execution_count": 58,
     "metadata": {},
     "output_type": "execute_result"
    }
   ],
   "source": [
    "c = data1_df.sort_values('Trust (Government Corruption)').head(10)\n",
    "c"
   ]
  },
  {
   "cell_type": "code",
   "execution_count": 56,
   "metadata": {},
   "outputs": [
    {
     "data": {
      "text/plain": [
       "Region\n",
       "Central and Eastern Europe     5\n",
       "Latin America and Caribbean    2\n",
       "Southeastern Asia              1\n",
       "Western Europe                 2\n",
       "Name: Country, dtype: int64"
      ]
     },
     "execution_count": 56,
     "metadata": {},
     "output_type": "execute_result"
    }
   ],
   "source": [
    "d = c.groupby('Region').count()\n",
    "d['Country']"
   ]
  },
  {
   "cell_type": "markdown",
   "metadata": {},
   "source": [
    "<b> Central and Eastern Europe </b> Countries has least trust on the governement."
   ]
  },
  {
   "cell_type": "markdown",
   "metadata": {},
   "source": [
    "#### Q3: What is the trend between family and freedom factor for any region?"
   ]
  },
  {
   "cell_type": "code",
   "execution_count": 88,
   "metadata": {},
   "outputs": [
    {
     "data": {
      "text/html": [
       "<div>\n",
       "<style scoped>\n",
       "    .dataframe tbody tr th:only-of-type {\n",
       "        vertical-align: middle;\n",
       "    }\n",
       "\n",
       "    .dataframe tbody tr th {\n",
       "        vertical-align: top;\n",
       "    }\n",
       "\n",
       "    .dataframe thead th {\n",
       "        text-align: right;\n",
       "    }\n",
       "</style>\n",
       "<table border=\"1\" class=\"dataframe\">\n",
       "  <thead>\n",
       "    <tr style=\"text-align: right;\">\n",
       "      <th></th>\n",
       "      <th>Happiness Rank</th>\n",
       "      <th>Happiness Score</th>\n",
       "      <th>Economy (GDP per Capita)</th>\n",
       "      <th>Family</th>\n",
       "      <th>Health (Life Expectancy)</th>\n",
       "      <th>Freedom</th>\n",
       "      <th>Trust (Government Corruption)</th>\n",
       "      <th>Generosity</th>\n",
       "      <th>Others</th>\n",
       "      <th>Rank</th>\n",
       "    </tr>\n",
       "    <tr>\n",
       "      <th>Region</th>\n",
       "      <th></th>\n",
       "      <th></th>\n",
       "      <th></th>\n",
       "      <th></th>\n",
       "      <th></th>\n",
       "      <th></th>\n",
       "      <th></th>\n",
       "      <th></th>\n",
       "      <th></th>\n",
       "      <th></th>\n",
       "    </tr>\n",
       "  </thead>\n",
       "  <tbody>\n",
       "    <tr>\n",
       "      <th>Australia and New Zealand</th>\n",
       "      <td>9.500000</td>\n",
       "      <td>7.285000</td>\n",
       "      <td>1.291880</td>\n",
       "      <td>1.314450</td>\n",
       "      <td>0.919965</td>\n",
       "      <td>0.645310</td>\n",
       "      <td>0.392795</td>\n",
       "      <td>0.455315</td>\n",
       "      <td>0.310962</td>\n",
       "      <td>1</td>\n",
       "    </tr>\n",
       "    <tr>\n",
       "      <th>North America</th>\n",
       "      <td>10.000000</td>\n",
       "      <td>7.273000</td>\n",
       "      <td>1.360400</td>\n",
       "      <td>1.284860</td>\n",
       "      <td>0.883710</td>\n",
       "      <td>0.589505</td>\n",
       "      <td>0.244235</td>\n",
       "      <td>0.429580</td>\n",
       "      <td>0.341354</td>\n",
       "      <td>2</td>\n",
       "    </tr>\n",
       "    <tr>\n",
       "      <th>Western Europe</th>\n",
       "      <td>29.523810</td>\n",
       "      <td>6.689619</td>\n",
       "      <td>1.298596</td>\n",
       "      <td>1.247302</td>\n",
       "      <td>0.909148</td>\n",
       "      <td>0.549926</td>\n",
       "      <td>0.231463</td>\n",
       "      <td>0.302109</td>\n",
       "      <td>0.320566</td>\n",
       "      <td>3</td>\n",
       "    </tr>\n",
       "    <tr>\n",
       "      <th>Latin America and Caribbean</th>\n",
       "      <td>46.909091</td>\n",
       "      <td>6.144682</td>\n",
       "      <td>0.876815</td>\n",
       "      <td>1.104720</td>\n",
       "      <td>0.703870</td>\n",
       "      <td>0.501740</td>\n",
       "      <td>0.117172</td>\n",
       "      <td>0.217788</td>\n",
       "      <td>0.424590</td>\n",
       "      <td>4</td>\n",
       "    </tr>\n",
       "    <tr>\n",
       "      <th>Eastern Asia</th>\n",
       "      <td>64.500000</td>\n",
       "      <td>5.626167</td>\n",
       "      <td>1.151780</td>\n",
       "      <td>1.099427</td>\n",
       "      <td>0.877388</td>\n",
       "      <td>0.462490</td>\n",
       "      <td>0.127695</td>\n",
       "      <td>0.225885</td>\n",
       "      <td>0.296521</td>\n",
       "      <td>5</td>\n",
       "    </tr>\n",
       "    <tr>\n",
       "      <th>Middle East and Northern Africa</th>\n",
       "      <td>77.600000</td>\n",
       "      <td>5.406900</td>\n",
       "      <td>1.066973</td>\n",
       "      <td>0.920490</td>\n",
       "      <td>0.705616</td>\n",
       "      <td>0.361751</td>\n",
       "      <td>0.181702</td>\n",
       "      <td>0.190375</td>\n",
       "      <td>0.365229</td>\n",
       "      <td>6</td>\n",
       "    </tr>\n",
       "    <tr>\n",
       "      <th>Central and Eastern Europe</th>\n",
       "      <td>79.000000</td>\n",
       "      <td>5.332931</td>\n",
       "      <td>0.942438</td>\n",
       "      <td>1.053042</td>\n",
       "      <td>0.718774</td>\n",
       "      <td>0.358269</td>\n",
       "      <td>0.086674</td>\n",
       "      <td>0.152264</td>\n",
       "      <td>0.376850</td>\n",
       "      <td>7</td>\n",
       "    </tr>\n",
       "    <tr>\n",
       "      <th>Southeastern Asia</th>\n",
       "      <td>81.222222</td>\n",
       "      <td>5.317444</td>\n",
       "      <td>0.789054</td>\n",
       "      <td>0.940468</td>\n",
       "      <td>0.677357</td>\n",
       "      <td>0.557104</td>\n",
       "      <td>0.151276</td>\n",
       "      <td>0.419261</td>\n",
       "      <td>0.334208</td>\n",
       "      <td>8</td>\n",
       "    </tr>\n",
       "    <tr>\n",
       "      <th>Southern Asia</th>\n",
       "      <td>113.142857</td>\n",
       "      <td>4.580857</td>\n",
       "      <td>0.560486</td>\n",
       "      <td>0.645321</td>\n",
       "      <td>0.540830</td>\n",
       "      <td>0.373337</td>\n",
       "      <td>0.102536</td>\n",
       "      <td>0.341429</td>\n",
       "      <td>0.440190</td>\n",
       "      <td>9</td>\n",
       "    </tr>\n",
       "    <tr>\n",
       "      <th>Sub-Saharan Africa</th>\n",
       "      <td>127.900000</td>\n",
       "      <td>4.202800</td>\n",
       "      <td>0.380473</td>\n",
       "      <td>0.809085</td>\n",
       "      <td>0.282332</td>\n",
       "      <td>0.365944</td>\n",
       "      <td>0.123878</td>\n",
       "      <td>0.221137</td>\n",
       "      <td>0.479909</td>\n",
       "      <td>10</td>\n",
       "    </tr>\n",
       "  </tbody>\n",
       "</table>\n",
       "</div>"
      ],
      "text/plain": [
       "                                 Happiness Rank  Happiness Score  \\\n",
       "Region                                                             \n",
       "Australia and New Zealand              9.500000         7.285000   \n",
       "North America                         10.000000         7.273000   \n",
       "Western Europe                        29.523810         6.689619   \n",
       "Latin America and Caribbean           46.909091         6.144682   \n",
       "Eastern Asia                          64.500000         5.626167   \n",
       "Middle East and Northern Africa       77.600000         5.406900   \n",
       "Central and Eastern Europe            79.000000         5.332931   \n",
       "Southeastern Asia                     81.222222         5.317444   \n",
       "Southern Asia                        113.142857         4.580857   \n",
       "Sub-Saharan Africa                   127.900000         4.202800   \n",
       "\n",
       "                                 Economy (GDP per Capita)    Family  \\\n",
       "Region                                                                \n",
       "Australia and New Zealand                        1.291880  1.314450   \n",
       "North America                                    1.360400  1.284860   \n",
       "Western Europe                                   1.298596  1.247302   \n",
       "Latin America and Caribbean                      0.876815  1.104720   \n",
       "Eastern Asia                                     1.151780  1.099427   \n",
       "Middle East and Northern Africa                  1.066973  0.920490   \n",
       "Central and Eastern Europe                       0.942438  1.053042   \n",
       "Southeastern Asia                                0.789054  0.940468   \n",
       "Southern Asia                                    0.560486  0.645321   \n",
       "Sub-Saharan Africa                               0.380473  0.809085   \n",
       "\n",
       "                                 Health (Life Expectancy)   Freedom  \\\n",
       "Region                                                                \n",
       "Australia and New Zealand                        0.919965  0.645310   \n",
       "North America                                    0.883710  0.589505   \n",
       "Western Europe                                   0.909148  0.549926   \n",
       "Latin America and Caribbean                      0.703870  0.501740   \n",
       "Eastern Asia                                     0.877388  0.462490   \n",
       "Middle East and Northern Africa                  0.705616  0.361751   \n",
       "Central and Eastern Europe                       0.718774  0.358269   \n",
       "Southeastern Asia                                0.677357  0.557104   \n",
       "Southern Asia                                    0.540830  0.373337   \n",
       "Sub-Saharan Africa                               0.282332  0.365944   \n",
       "\n",
       "                                 Trust (Government Corruption)  Generosity  \\\n",
       "Region                                                                       \n",
       "Australia and New Zealand                             0.392795    0.455315   \n",
       "North America                                         0.244235    0.429580   \n",
       "Western Europe                                        0.231463    0.302109   \n",
       "Latin America and Caribbean                           0.117172    0.217788   \n",
       "Eastern Asia                                          0.127695    0.225885   \n",
       "Middle East and Northern Africa                       0.181702    0.190375   \n",
       "Central and Eastern Europe                            0.086674    0.152264   \n",
       "Southeastern Asia                                     0.151276    0.419261   \n",
       "Southern Asia                                         0.102536    0.341429   \n",
       "Sub-Saharan Africa                                    0.123878    0.221137   \n",
       "\n",
       "                                   Others Rank  \n",
       "Region                                          \n",
       "Australia and New Zealand        0.310962    1  \n",
       "North America                    0.341354    2  \n",
       "Western Europe                   0.320566    3  \n",
       "Latin America and Caribbean      0.424590    4  \n",
       "Eastern Asia                     0.296521    5  \n",
       "Middle East and Northern Africa  0.365229    6  \n",
       "Central and Eastern Europe       0.376850    7  \n",
       "Southeastern Asia                0.334208    8  \n",
       "Southern Asia                    0.440190    9  \n",
       "Sub-Saharan Africa               0.479909   10  "
      ]
     },
     "execution_count": 88,
     "metadata": {},
     "output_type": "execute_result"
    }
   ],
   "source": [
    "region_wise"
   ]
  },
  {
   "cell_type": "code",
   "execution_count": 90,
   "metadata": {},
   "outputs": [
    {
     "data": {
      "image/png": "[encoded data removed]",
      "text/plain": [
       "<Figure size 864x432 with 1 Axes>"
      ]
     },
     "metadata": {
      "needs_background": "light"
     },
     "output_type": "display_data"
    }
   ],
   "source": [
    "plt.figure(figsize=(12, 6))\n",
    "\n",
    "plt.plot(region_wise['Happiness Rank'], region_wise['Freedom'], 's-b');\n",
    "plt.plot(region_wise['Happiness Rank'], region_wise['Family'], 'o--r');"
   ]
  },
  {
   "cell_type": "code",
   "execution_count": 102,
   "metadata": {},
   "outputs": [
    {
     "data": {
      "image/png": "[encoded data removed]",
      "text/plain": [
       "<Figure size 1152x576 with 2 Axes>"
      ]
     },
     "metadata": {
      "needs_background": "light"
     },
     "output_type": "display_data"
    }
   ],
   "source": [
    "fig, axes = plt.subplots(2,1, figsize=(16, 8))\n",
    "\n",
    "sns.barplot(x='Rank', y='Freedom', data=region_wise, ax = axes[0]);\n",
    "sns.barplot(x='Rank', y='Family', data=region_wise, ax = axes[1]);"
   ]
  },
  {
   "cell_type": "code",
   "execution_count": 78,
   "metadata": {},
   "outputs": [
    {
     "data": {
      "text/html": [
       "<div>\n",
       "<style scoped>\n",
       "    .dataframe tbody tr th:only-of-type {\n",
       "        vertical-align: middle;\n",
       "    }\n",
       "\n",
       "    .dataframe tbody tr th {\n",
       "        vertical-align: top;\n",
       "    }\n",
       "\n",
       "    .dataframe thead th {\n",
       "        text-align: right;\n",
       "    }\n",
       "</style>\n",
       "<table border=\"1\" class=\"dataframe\">\n",
       "  <thead>\n",
       "    <tr style=\"text-align: right;\">\n",
       "      <th></th>\n",
       "      <th>Happiness Rank</th>\n",
       "      <th>Happiness Score</th>\n",
       "      <th>Economy (GDP per Capita)</th>\n",
       "      <th>Family</th>\n",
       "      <th>Health (Life Expectancy)</th>\n",
       "      <th>Freedom</th>\n",
       "      <th>Trust (Government Corruption)</th>\n",
       "      <th>Generosity</th>\n",
       "      <th>Others</th>\n",
       "    </tr>\n",
       "  </thead>\n",
       "  <tbody>\n",
       "    <tr>\n",
       "      <th>Happiness Rank</th>\n",
       "      <td>1.000000</td>\n",
       "      <td>-0.999578</td>\n",
       "      <td>-0.989045</td>\n",
       "      <td>-0.996399</td>\n",
       "      <td>-0.986405</td>\n",
       "      <td>-0.965334</td>\n",
       "      <td>-0.958137</td>\n",
       "      <td>-0.782042</td>\n",
       "      <td>0.968290</td>\n",
       "    </tr>\n",
       "    <tr>\n",
       "      <th>Happiness Score</th>\n",
       "      <td>-0.999578</td>\n",
       "      <td>1.000000</td>\n",
       "      <td>0.985247</td>\n",
       "      <td>0.994208</td>\n",
       "      <td>0.982325</td>\n",
       "      <td>0.970917</td>\n",
       "      <td>0.965154</td>\n",
       "      <td>0.797148</td>\n",
       "      <td>-0.964573</td>\n",
       "    </tr>\n",
       "    <tr>\n",
       "      <th>Economy (GDP per Capita)</th>\n",
       "      <td>-0.989045</td>\n",
       "      <td>0.985247</td>\n",
       "      <td>1.000000</td>\n",
       "      <td>0.991411</td>\n",
       "      <td>0.998055</td>\n",
       "      <td>0.927584</td>\n",
       "      <td>0.926194</td>\n",
       "      <td>0.714354</td>\n",
       "      <td>-0.985272</td>\n",
       "    </tr>\n",
       "    <tr>\n",
       "      <th>Family</th>\n",
       "      <td>-0.996399</td>\n",
       "      <td>0.994208</td>\n",
       "      <td>0.991411</td>\n",
       "      <td>1.000000</td>\n",
       "      <td>0.986889</td>\n",
       "      <td>0.946809</td>\n",
       "      <td>0.940332</td>\n",
       "      <td>0.736044</td>\n",
       "      <td>-0.966768</td>\n",
       "    </tr>\n",
       "    <tr>\n",
       "      <th>Health (Life Expectancy)</th>\n",
       "      <td>-0.986405</td>\n",
       "      <td>0.982325</td>\n",
       "      <td>0.998055</td>\n",
       "      <td>0.986889</td>\n",
       "      <td>1.000000</td>\n",
       "      <td>0.931537</td>\n",
       "      <td>0.921225</td>\n",
       "      <td>0.726102</td>\n",
       "      <td>-0.991448</td>\n",
       "    </tr>\n",
       "    <tr>\n",
       "      <th>Freedom</th>\n",
       "      <td>-0.965334</td>\n",
       "      <td>0.970917</td>\n",
       "      <td>0.927584</td>\n",
       "      <td>0.946809</td>\n",
       "      <td>0.931537</td>\n",
       "      <td>1.000000</td>\n",
       "      <td>0.980901</td>\n",
       "      <td>0.912231</td>\n",
       "      <td>-0.930123</td>\n",
       "    </tr>\n",
       "    <tr>\n",
       "      <th>Trust (Government Corruption)</th>\n",
       "      <td>-0.958137</td>\n",
       "      <td>0.965154</td>\n",
       "      <td>0.926194</td>\n",
       "      <td>0.940332</td>\n",
       "      <td>0.921225</td>\n",
       "      <td>0.980901</td>\n",
       "      <td>1.000000</td>\n",
       "      <td>0.894745</td>\n",
       "      <td>-0.919748</td>\n",
       "    </tr>\n",
       "    <tr>\n",
       "      <th>Generosity</th>\n",
       "      <td>-0.782042</td>\n",
       "      <td>0.797148</td>\n",
       "      <td>0.714354</td>\n",
       "      <td>0.736044</td>\n",
       "      <td>0.726102</td>\n",
       "      <td>0.912231</td>\n",
       "      <td>0.894745</td>\n",
       "      <td>1.000000</td>\n",
       "      <td>-0.750296</td>\n",
       "    </tr>\n",
       "    <tr>\n",
       "      <th>Others</th>\n",
       "      <td>0.968290</td>\n",
       "      <td>-0.964573</td>\n",
       "      <td>-0.985272</td>\n",
       "      <td>-0.966768</td>\n",
       "      <td>-0.991448</td>\n",
       "      <td>-0.930123</td>\n",
       "      <td>-0.919748</td>\n",
       "      <td>-0.750296</td>\n",
       "      <td>1.000000</td>\n",
       "    </tr>\n",
       "  </tbody>\n",
       "</table>\n",
       "</div>"
      ],
      "text/plain": [
       "                               Happiness Rank  Happiness Score  \\\n",
       "Happiness Rank                       1.000000        -0.999578   \n",
       "Happiness Score                     -0.999578         1.000000   \n",
       "Economy (GDP per Capita)            -0.989045         0.985247   \n",
       "Family                              -0.996399         0.994208   \n",
       "Health (Life Expectancy)            -0.986405         0.982325   \n",
       "Freedom                             -0.965334         0.970917   \n",
       "Trust (Government Corruption)       -0.958137         0.965154   \n",
       "Generosity                          -0.782042         0.797148   \n",
       "Others                               0.968290        -0.964573   \n",
       "\n",
       "                               Economy (GDP per Capita)    Family  \\\n",
       "Happiness Rank                                -0.989045 -0.996399   \n",
       "Happiness Score                                0.985247  0.994208   \n",
       "Economy (GDP per Capita)                       1.000000  0.991411   \n",
       "Family                                         0.991411  1.000000   \n",
       "Health (Life Expectancy)                       0.998055  0.986889   \n",
       "Freedom                                        0.927584  0.946809   \n",
       "Trust (Government Corruption)                  0.926194  0.940332   \n",
       "Generosity                                     0.714354  0.736044   \n",
       "Others                                        -0.985272 -0.966768   \n",
       "\n",
       "                               Health (Life Expectancy)   Freedom  \\\n",
       "Happiness Rank                                -0.986405 -0.965334   \n",
       "Happiness Score                                0.982325  0.970917   \n",
       "Economy (GDP per Capita)                       0.998055  0.927584   \n",
       "Family                                         0.986889  0.946809   \n",
       "Health (Life Expectancy)                       1.000000  0.931537   \n",
       "Freedom                                        0.931537  1.000000   \n",
       "Trust (Government Corruption)                  0.921225  0.980901   \n",
       "Generosity                                     0.726102  0.912231   \n",
       "Others                                        -0.991448 -0.930123   \n",
       "\n",
       "                               Trust (Government Corruption)  Generosity  \\\n",
       "Happiness Rank                                     -0.958137   -0.782042   \n",
       "Happiness Score                                     0.965154    0.797148   \n",
       "Economy (GDP per Capita)                            0.926194    0.714354   \n",
       "Family                                              0.940332    0.736044   \n",
       "Health (Life Expectancy)                            0.921225    0.726102   \n",
       "Freedom                                             0.980901    0.912231   \n",
       "Trust (Government Corruption)                       1.000000    0.894745   \n",
       "Generosity                                          0.894745    1.000000   \n",
       "Others                                             -0.919748   -0.750296   \n",
       "\n",
       "                                 Others  \n",
       "Happiness Rank                 0.968290  \n",
       "Happiness Score               -0.964573  \n",
       "Economy (GDP per Capita)      -0.985272  \n",
       "Family                        -0.966768  \n",
       "Health (Life Expectancy)      -0.991448  \n",
       "Freedom                       -0.930123  \n",
       "Trust (Government Corruption) -0.919748  \n",
       "Generosity                    -0.750296  \n",
       "Others                         1.000000  "
      ]
     },
     "execution_count": 78,
     "metadata": {},
     "output_type": "execute_result"
    }
   ],
   "source": [
    "e = region_wise.corr()\n",
    "e.corr()"
   ]
  },
  {
   "cell_type": "code",
   "execution_count": 77,
   "metadata": {},
   "outputs": [
    {
     "data": {
      "text/plain": [
       "<AxesSubplot:>"
      ]
     },
     "execution_count": 77,
     "metadata": {},
     "output_type": "execute_result"
    },
    {
     "data": {
      "image/png": "[encoded data removed]",
      "text/plain": [
       "<Figure size 648x360 with 2 Axes>"
      ]
     },
     "metadata": {
      "needs_background": "light"
     },
     "output_type": "display_data"
    }
   ],
   "source": [
    "import seaborn as sn\n",
    "sn.heatmap(e)"
   ]
  },
  {
   "cell_type": "markdown",
   "metadata": {},
   "source": [
    "#### Q4: Is happiness score is equivalent to addition of all scores?\n"
   ]
  },
  {
   "cell_type": "code",
   "execution_count": 104,
   "metadata": {},
   "outputs": [
    {
     "data": {
      "text/plain": [
       "Index(['Country', 'Region', 'Happiness Rank', 'Happiness Score',\n",
       "       'Standard Error', 'Economy (GDP per Capita)', 'Family',\n",
       "       'Health (Life Expectancy)', 'Freedom', 'Trust (Government Corruption)',\n",
       "       'Generosity', 'Dystopia Residual', 'GDP-contri', 'Fam-contri',\n",
       "       'Health-contri', 'Freedom-contri', 'Govt-contri', 'Gen-contri',\n",
       "       'Others'],\n",
       "      dtype='object')"
      ]
     },
     "execution_count": 104,
     "metadata": {},
     "output_type": "execute_result"
    }
   ],
   "source": [
    "data1_df.columns"
   ]
  },
  {
   "cell_type": "code",
   "execution_count": 110,
   "metadata": {},
   "outputs": [],
   "source": [
    "data1_df['Total Score']= data1_df['Family']+data1_df['Freedom']+data1_df['Economy (GDP per Capita)']+data1_df['Health (Life Expectancy)']+data1_df['Trust (Government Corruption)']+data1_df['Generosity']+data1_df['Dystopia Residual'] "
   ]
  },
  {
   "cell_type": "code",
   "execution_count": 117,
   "metadata": {},
   "outputs": [],
   "source": [
    "data1_df['Total Score'] = data1_df['Total Score'].round(3)"
   ]
  },
  {
   "cell_type": "code",
   "execution_count": 133,
   "metadata": {},
   "outputs": [
    {
     "data": {
      "text/html": [
       "<div>\n",
       "<style scoped>\n",
       "    .dataframe tbody tr th:only-of-type {\n",
       "        vertical-align: middle;\n",
       "    }\n",
       "\n",
       "    .dataframe tbody tr th {\n",
       "        vertical-align: top;\n",
       "    }\n",
       "\n",
       "    .dataframe thead th {\n",
       "        text-align: right;\n",
       "    }\n",
       "</style>\n",
       "<table border=\"1\" class=\"dataframe\">\n",
       "  <thead>\n",
       "    <tr style=\"text-align: right;\">\n",
       "      <th></th>\n",
       "      <th>Total Score</th>\n",
       "      <th>Happiness Score</th>\n",
       "    </tr>\n",
       "  </thead>\n",
       "  <tbody>\n",
       "    <tr>\n",
       "      <th>0</th>\n",
       "      <td>7.587</td>\n",
       "      <td>7.587</td>\n",
       "    </tr>\n",
       "    <tr>\n",
       "      <th>1</th>\n",
       "      <td>7.561</td>\n",
       "      <td>7.561</td>\n",
       "    </tr>\n",
       "    <tr>\n",
       "      <th>2</th>\n",
       "      <td>7.527</td>\n",
       "      <td>7.527</td>\n",
       "    </tr>\n",
       "    <tr>\n",
       "      <th>3</th>\n",
       "      <td>7.522</td>\n",
       "      <td>7.522</td>\n",
       "    </tr>\n",
       "    <tr>\n",
       "      <th>4</th>\n",
       "      <td>7.427</td>\n",
       "      <td>7.427</td>\n",
       "    </tr>\n",
       "    <tr>\n",
       "      <th>...</th>\n",
       "      <td>...</td>\n",
       "      <td>...</td>\n",
       "    </tr>\n",
       "    <tr>\n",
       "      <th>153</th>\n",
       "      <td>3.465</td>\n",
       "      <td>3.465</td>\n",
       "    </tr>\n",
       "    <tr>\n",
       "      <th>154</th>\n",
       "      <td>3.340</td>\n",
       "      <td>3.340</td>\n",
       "    </tr>\n",
       "    <tr>\n",
       "      <th>155</th>\n",
       "      <td>3.006</td>\n",
       "      <td>3.006</td>\n",
       "    </tr>\n",
       "    <tr>\n",
       "      <th>156</th>\n",
       "      <td>2.905</td>\n",
       "      <td>2.905</td>\n",
       "    </tr>\n",
       "    <tr>\n",
       "      <th>157</th>\n",
       "      <td>2.839</td>\n",
       "      <td>2.839</td>\n",
       "    </tr>\n",
       "  </tbody>\n",
       "</table>\n",
       "<p>158 rows × 2 columns</p>\n",
       "</div>"
      ],
      "text/plain": [
       "     Total Score  Happiness Score\n",
       "0          7.587            7.587\n",
       "1          7.561            7.561\n",
       "2          7.527            7.527\n",
       "3          7.522            7.522\n",
       "4          7.427            7.427\n",
       "..           ...              ...\n",
       "153        3.465            3.465\n",
       "154        3.340            3.340\n",
       "155        3.006            3.006\n",
       "156        2.905            2.905\n",
       "157        2.839            2.839\n",
       "\n",
       "[158 rows x 2 columns]"
      ]
     },
     "execution_count": 133,
     "metadata": {},
     "output_type": "execute_result"
    }
   ],
   "source": [
    "data1_df[['Total Score', 'Happiness Score']]"
   ]
  },
  {
   "cell_type": "markdown",
   "metadata": {},
   "source": [
    "#### Q5: What are the most generous countries in the world?"
   ]
  },
  {
   "cell_type": "code",
   "execution_count": 136,
   "metadata": {},
   "outputs": [
    {
     "data": {
      "text/plain": [
       "155                Syria\n",
       "8            New Zealand\n",
       "6            Netherlands\n",
       "78                Bhutan\n",
       "90     Somaliland region\n",
       "73             Indonesia\n",
       "36                 Malta\n",
       "20        United Kingdom\n",
       "33              Thailand\n",
       "128              Myanmar\n",
       "Name: Country, dtype: object"
      ]
     },
     "execution_count": 136,
     "metadata": {},
     "output_type": "execute_result"
    }
   ],
   "source": [
    "x = data1_df.sort_values('Generosity').tail(10)\n",
    "x['Country']"
   ]
  },
  {
   "cell_type": "markdown",
   "metadata": {},
   "source": [
    "Let us save and upload our work to Jovian before continuing."
   ]
  },
  {
   "cell_type": "code",
   "execution_count": 137,
   "metadata": {},
   "outputs": [],
   "source": [
    "import jovian"
   ]
  },
  {
   "cell_type": "code",
   "execution_count": 138,
   "metadata": {},
   "outputs": [
    {
     "data": {
      "application/javascript": [
       "window.require && require([\"base/js/namespace\"],function(Jupyter){Jupyter.notebook.save_checkpoint()})"
      ],
      "text/plain": [
       "<IPython.core.display.Javascript object>"
      ]
     },
     "metadata": {},
     "output_type": "display_data"
    },
    {
     "name": "stdout",
     "output_type": "stream",
     "text": [
      "[jovian] Attempting to save notebook..\u001b[0m\n",
      "[jovian] Updating notebook \"jaggarwal1/contributing-to-happiness\" on https://jovian.ai\u001b[0m\n",
      "[jovian] Uploading notebook..\u001b[0m\n",
      "[jovian] Uploading additional files...\u001b[0m\n",
      "[jovian] Committed successfully! https://jovian.ai/jaggarwal1/contributing-to-happiness\u001b[0m\n"
     ]
    },
    {
     "data": {
      "text/plain": [
       "'https://jovian.ai/jaggarwal1/contributing-to-happiness'"
      ]
     },
     "execution_count": 138,
     "metadata": {},
     "output_type": "execute_result"
    }
   ],
   "source": [
    "jovian.commit()"
   ]
  },
  {
   "cell_type": "markdown",
   "metadata": {},
   "source": [
    "## Inferences and Conclusion\n",
    "\n",
    "**TODO** - Write some explanation here: a summary of all the inferences drawn from the analysis, and any conclusions you may have drawn by answering various questions."
   ]
  },
  {
   "cell_type": "code",
   "execution_count": 139,
   "metadata": {},
   "outputs": [],
   "source": [
    "import jovian"
   ]
  },
  {
   "cell_type": "code",
   "execution_count": 140,
   "metadata": {},
   "outputs": [
    {
     "data": {
      "application/javascript": [
       "window.require && require([\"base/js/namespace\"],function(Jupyter){Jupyter.notebook.save_checkpoint()})"
      ],
      "text/plain": [
       "<IPython.core.display.Javascript object>"
      ]
     },
     "metadata": {},
     "output_type": "display_data"
    },
    {
     "name": "stdout",
     "output_type": "stream",
     "text": [
      "[jovian] Attempting to save notebook..\u001b[0m\n",
      "[jovian] Updating notebook \"jaggarwal1/contributing-to-happiness\" on https://jovian.ai\u001b[0m\n",
      "[jovian] Uploading notebook..\u001b[0m\n",
      "[jovian] Uploading additional files...\u001b[0m\n",
      "[jovian] Committed successfully! https://jovian.ai/jaggarwal1/contributing-to-happiness\u001b[0m\n"
     ]
    },
    {
     "data": {
      "text/plain": [
       "'https://jovian.ai/jaggarwal1/contributing-to-happiness'"
      ]
     },
     "execution_count": 140,
     "metadata": {},
     "output_type": "execute_result"
    }
   ],
   "source": [
    "jovian.commit()"
   ]
  },
  {
   "cell_type": "markdown",
   "metadata": {},
   "source": [
    "## References and Future Work\n",
    "\n",
    "**TODO** - Write some explanation here: ideas for future projects using this dataset, and links to resources you found useful."
   ]
  },
  {
   "cell_type": "markdown",
   "metadata": {},
   "source": [
    "> Submission Instructions (delete this cell)\n",
    "> \n",
    "> - Upload your notebook to your Jovian.ml profile using `jovian.commit`.\n",
    "> - **Make a submission here**: https://jovian.ml/learn/data-analysis-with-python-zero-to-pandas/assignment/course-project\n",
    "> - Share your work on the forum: https://jovian.ml/forum/t/course-project-on-exploratory-data-analysis-discuss-and-share-your-work/11684\n",
    "> - Share your work on social media (Twitter, LinkedIn, Telegram etc.) and tag [@JovianML](https://twitter.com/jovianml)\n",
    ">\n",
    "> (Optional) Write a blog post\n",
    "> \n",
    "> - A blog post is a great way to present and showcase your work.  \n",
    "> - Sign up on [Medium.com](https://medium.com) to write a blog post for your project.\n",
    "> - Copy over the explanations from your Jupyter notebook into your blog post, and [embed code cells & outputs](https://medium.com/jovianml/share-and-embed-jupyter-notebooks-online-with-jovian-ml-df709a03064e)\n",
    "> - Check out the Jovian.ml Medium publication for inspiration: https://medium.com/jovianml\n",
    "\n",
    "\n",
    " "
   ]
  },
  {
   "cell_type": "code",
   "execution_count": 141,
   "metadata": {},
   "outputs": [],
   "source": [
    "import jovian"
   ]
  },
  {
   "cell_type": "code",
   "execution_count": 142,
   "metadata": {
    "scrolled": true
   },
   "outputs": [
    {
     "data": {
      "application/javascript": [
       "window.require && require([\"base/js/namespace\"],function(Jupyter){Jupyter.notebook.save_checkpoint()})"
      ],
      "text/plain": [
       "<IPython.core.display.Javascript object>"
      ]
     },
     "metadata": {},
     "output_type": "display_data"
    },
    {
     "name": "stdout",
     "output_type": "stream",
     "text": [
      "[jovian] Attempting to save notebook..\u001b[0m\n",
      "[jovian] Updating notebook \"jaggarwal1/contributing-to-happiness\" on https://jovian.ai\u001b[0m\n",
      "[jovian] Uploading notebook..\u001b[0m\n",
      "[jovian] Uploading additional files...\u001b[0m\n",
      "[jovian] Committed successfully! https://jovian.ai/jaggarwal1/contributing-to-happiness\u001b[0m\n"
     ]
    },
    {
     "data": {
      "text/plain": [
       "'https://jovian.ai/jaggarwal1/contributing-to-happiness'"
      ]
     },
     "execution_count": 142,
     "metadata": {},
     "output_type": "execute_result"
    }
   ],
   "source": [
    "jovian.commit()"
   ]
  },
  {
   "cell_type": "code",
   "execution_count": null,
   "metadata": {},
   "outputs": [],
   "source": []
  }
 ],
 "metadata": {
  "kernelspec": {
   "display_name": "Python 3",
   "language": "python",
   "name": "python3"
  },
  "language_info": {
   "codemirror_mode": {
    "name": "ipython",
    "version": 3
   },
   "file_extension": ".py",
   "mimetype": "text/x-python",
   "name": "python",
   "nbconvert_exporter": "python",
   "pygments_lexer": "ipython3",
   "version": "3.8.6"
  }
 },
 "nbformat": 4,
 "nbformat_minor": 4
}
